{
 "cells": [
  {
   "cell_type": "markdown",
   "metadata": {},
   "source": [
    "# Black Friday Prediction"
   ]
  },
  {
   "cell_type": "code",
   "execution_count": 82,
   "metadata": {},
   "outputs": [],
   "source": [
    "#Import necessary libraries\n",
    "import pandas as pd\n",
    "import numpy as np\n",
    "import matplotlib.pyplot as plt\n",
    "import seaborn as sns\n",
    "from sklearn.model_selection import train_test_split\n",
    "from sklearn.preprocessing import StandardScaler"
   ]
  },
  {
   "cell_type": "markdown",
   "metadata": {},
   "source": [
    "### Load the training dataset"
   ]
  },
  {
   "cell_type": "code",
   "execution_count": 83,
   "metadata": {},
   "outputs": [],
   "source": [
    "bf_train=pd.read_csv(\"black_friday//blackFriday_train.csv\")"
   ]
  },
  {
   "cell_type": "code",
   "execution_count": 84,
   "metadata": {},
   "outputs": [
    {
     "data": {
      "text/html": [
       "<div>\n",
       "<style scoped>\n",
       "    .dataframe tbody tr th:only-of-type {\n",
       "        vertical-align: middle;\n",
       "    }\n",
       "\n",
       "    .dataframe tbody tr th {\n",
       "        vertical-align: top;\n",
       "    }\n",
       "\n",
       "    .dataframe thead th {\n",
       "        text-align: right;\n",
       "    }\n",
       "</style>\n",
       "<table border=\"1\" class=\"dataframe\">\n",
       "  <thead>\n",
       "    <tr style=\"text-align: right;\">\n",
       "      <th></th>\n",
       "      <th>User_ID</th>\n",
       "      <th>Product_ID</th>\n",
       "      <th>Gender</th>\n",
       "      <th>Age</th>\n",
       "      <th>Occupation</th>\n",
       "      <th>City_Category</th>\n",
       "      <th>Stay_In_Current_City_Years</th>\n",
       "      <th>Marital_Status</th>\n",
       "      <th>Product_Category_1</th>\n",
       "      <th>Product_Category_2</th>\n",
       "      <th>Product_Category_3</th>\n",
       "      <th>Purchase</th>\n",
       "    </tr>\n",
       "  </thead>\n",
       "  <tbody>\n",
       "    <tr>\n",
       "      <th>0</th>\n",
       "      <td>1000001</td>\n",
       "      <td>P00069042</td>\n",
       "      <td>F</td>\n",
       "      <td>0-17</td>\n",
       "      <td>10</td>\n",
       "      <td>A</td>\n",
       "      <td>2</td>\n",
       "      <td>0</td>\n",
       "      <td>3</td>\n",
       "      <td>NaN</td>\n",
       "      <td>NaN</td>\n",
       "      <td>8370</td>\n",
       "    </tr>\n",
       "    <tr>\n",
       "      <th>1</th>\n",
       "      <td>1000001</td>\n",
       "      <td>P00248942</td>\n",
       "      <td>F</td>\n",
       "      <td>0-17</td>\n",
       "      <td>10</td>\n",
       "      <td>A</td>\n",
       "      <td>2</td>\n",
       "      <td>0</td>\n",
       "      <td>1</td>\n",
       "      <td>6.0</td>\n",
       "      <td>14.0</td>\n",
       "      <td>15200</td>\n",
       "    </tr>\n",
       "    <tr>\n",
       "      <th>2</th>\n",
       "      <td>1000001</td>\n",
       "      <td>P00087842</td>\n",
       "      <td>F</td>\n",
       "      <td>0-17</td>\n",
       "      <td>10</td>\n",
       "      <td>A</td>\n",
       "      <td>2</td>\n",
       "      <td>0</td>\n",
       "      <td>12</td>\n",
       "      <td>NaN</td>\n",
       "      <td>NaN</td>\n",
       "      <td>1422</td>\n",
       "    </tr>\n",
       "    <tr>\n",
       "      <th>3</th>\n",
       "      <td>1000001</td>\n",
       "      <td>P00085442</td>\n",
       "      <td>F</td>\n",
       "      <td>0-17</td>\n",
       "      <td>10</td>\n",
       "      <td>A</td>\n",
       "      <td>2</td>\n",
       "      <td>0</td>\n",
       "      <td>12</td>\n",
       "      <td>14.0</td>\n",
       "      <td>NaN</td>\n",
       "      <td>1057</td>\n",
       "    </tr>\n",
       "    <tr>\n",
       "      <th>4</th>\n",
       "      <td>1000002</td>\n",
       "      <td>P00285442</td>\n",
       "      <td>M</td>\n",
       "      <td>55+</td>\n",
       "      <td>16</td>\n",
       "      <td>C</td>\n",
       "      <td>4+</td>\n",
       "      <td>0</td>\n",
       "      <td>8</td>\n",
       "      <td>NaN</td>\n",
       "      <td>NaN</td>\n",
       "      <td>7969</td>\n",
       "    </tr>\n",
       "  </tbody>\n",
       "</table>\n",
       "</div>"
      ],
      "text/plain": [
       "   User_ID Product_ID Gender   Age  Occupation City_Category  \\\n",
       "0  1000001  P00069042      F  0-17          10             A   \n",
       "1  1000001  P00248942      F  0-17          10             A   \n",
       "2  1000001  P00087842      F  0-17          10             A   \n",
       "3  1000001  P00085442      F  0-17          10             A   \n",
       "4  1000002  P00285442      M   55+          16             C   \n",
       "\n",
       "  Stay_In_Current_City_Years  Marital_Status  Product_Category_1  \\\n",
       "0                          2               0                   3   \n",
       "1                          2               0                   1   \n",
       "2                          2               0                  12   \n",
       "3                          2               0                  12   \n",
       "4                         4+               0                   8   \n",
       "\n",
       "   Product_Category_2  Product_Category_3  Purchase  \n",
       "0                 NaN                 NaN      8370  \n",
       "1                 6.0                14.0     15200  \n",
       "2                 NaN                 NaN      1422  \n",
       "3                14.0                 NaN      1057  \n",
       "4                 NaN                 NaN      7969  "
      ]
     },
     "execution_count": 84,
     "metadata": {},
     "output_type": "execute_result"
    }
   ],
   "source": [
    "bf_train.head()"
   ]
  },
  {
   "cell_type": "code",
   "execution_count": 85,
   "metadata": {},
   "outputs": [
    {
     "name": "stdout",
     "output_type": "stream",
     "text": [
      "<class 'pandas.core.frame.DataFrame'>\n",
      "RangeIndex: 550068 entries, 0 to 550067\n",
      "Data columns (total 12 columns):\n",
      " #   Column                      Non-Null Count   Dtype  \n",
      "---  ------                      --------------   -----  \n",
      " 0   User_ID                     550068 non-null  int64  \n",
      " 1   Product_ID                  550068 non-null  object \n",
      " 2   Gender                      550068 non-null  object \n",
      " 3   Age                         550068 non-null  object \n",
      " 4   Occupation                  550068 non-null  int64  \n",
      " 5   City_Category               550068 non-null  object \n",
      " 6   Stay_In_Current_City_Years  550068 non-null  object \n",
      " 7   Marital_Status              550068 non-null  int64  \n",
      " 8   Product_Category_1          550068 non-null  int64  \n",
      " 9   Product_Category_2          376430 non-null  float64\n",
      " 10  Product_Category_3          166821 non-null  float64\n",
      " 11  Purchase                    550068 non-null  int64  \n",
      "dtypes: float64(2), int64(5), object(5)\n",
      "memory usage: 50.4+ MB\n"
     ]
    }
   ],
   "source": [
    "#Get the info on columns\n",
    "bf_train.info()"
   ]
  },
  {
   "cell_type": "code",
   "execution_count": 86,
   "metadata": {},
   "outputs": [
    {
     "data": {
      "text/plain": [
       "(550068, 12)"
      ]
     },
     "execution_count": 86,
     "metadata": {},
     "output_type": "execute_result"
    }
   ],
   "source": [
    "#Get number of rows and column\n",
    "bf_train.shape"
   ]
  },
  {
   "cell_type": "markdown",
   "metadata": {},
   "source": [
    "### Loading test dataset"
   ]
  },
  {
   "cell_type": "code",
   "execution_count": 87,
   "metadata": {},
   "outputs": [],
   "source": [
    "bf_test=pd.read_csv(\"black_friday//blackFriday_test.csv\")"
   ]
  },
  {
   "cell_type": "code",
   "execution_count": 88,
   "metadata": {},
   "outputs": [
    {
     "data": {
      "text/html": [
       "<div>\n",
       "<style scoped>\n",
       "    .dataframe tbody tr th:only-of-type {\n",
       "        vertical-align: middle;\n",
       "    }\n",
       "\n",
       "    .dataframe tbody tr th {\n",
       "        vertical-align: top;\n",
       "    }\n",
       "\n",
       "    .dataframe thead th {\n",
       "        text-align: right;\n",
       "    }\n",
       "</style>\n",
       "<table border=\"1\" class=\"dataframe\">\n",
       "  <thead>\n",
       "    <tr style=\"text-align: right;\">\n",
       "      <th></th>\n",
       "      <th>User_ID</th>\n",
       "      <th>Product_ID</th>\n",
       "      <th>Gender</th>\n",
       "      <th>Age</th>\n",
       "      <th>Occupation</th>\n",
       "      <th>City_Category</th>\n",
       "      <th>Stay_In_Current_City_Years</th>\n",
       "      <th>Marital_Status</th>\n",
       "      <th>Product_Category_1</th>\n",
       "      <th>Product_Category_2</th>\n",
       "      <th>Product_Category_3</th>\n",
       "    </tr>\n",
       "  </thead>\n",
       "  <tbody>\n",
       "    <tr>\n",
       "      <th>0</th>\n",
       "      <td>1000004</td>\n",
       "      <td>P00128942</td>\n",
       "      <td>M</td>\n",
       "      <td>46-50</td>\n",
       "      <td>7</td>\n",
       "      <td>B</td>\n",
       "      <td>2</td>\n",
       "      <td>1</td>\n",
       "      <td>1</td>\n",
       "      <td>11.0</td>\n",
       "      <td>NaN</td>\n",
       "    </tr>\n",
       "    <tr>\n",
       "      <th>1</th>\n",
       "      <td>1000009</td>\n",
       "      <td>P00113442</td>\n",
       "      <td>M</td>\n",
       "      <td>26-35</td>\n",
       "      <td>17</td>\n",
       "      <td>C</td>\n",
       "      <td>0</td>\n",
       "      <td>0</td>\n",
       "      <td>3</td>\n",
       "      <td>5.0</td>\n",
       "      <td>NaN</td>\n",
       "    </tr>\n",
       "    <tr>\n",
       "      <th>2</th>\n",
       "      <td>1000010</td>\n",
       "      <td>P00288442</td>\n",
       "      <td>F</td>\n",
       "      <td>36-45</td>\n",
       "      <td>1</td>\n",
       "      <td>B</td>\n",
       "      <td>4+</td>\n",
       "      <td>1</td>\n",
       "      <td>5</td>\n",
       "      <td>14.0</td>\n",
       "      <td>NaN</td>\n",
       "    </tr>\n",
       "    <tr>\n",
       "      <th>3</th>\n",
       "      <td>1000010</td>\n",
       "      <td>P00145342</td>\n",
       "      <td>F</td>\n",
       "      <td>36-45</td>\n",
       "      <td>1</td>\n",
       "      <td>B</td>\n",
       "      <td>4+</td>\n",
       "      <td>1</td>\n",
       "      <td>4</td>\n",
       "      <td>9.0</td>\n",
       "      <td>NaN</td>\n",
       "    </tr>\n",
       "    <tr>\n",
       "      <th>4</th>\n",
       "      <td>1000011</td>\n",
       "      <td>P00053842</td>\n",
       "      <td>F</td>\n",
       "      <td>26-35</td>\n",
       "      <td>1</td>\n",
       "      <td>C</td>\n",
       "      <td>1</td>\n",
       "      <td>0</td>\n",
       "      <td>4</td>\n",
       "      <td>5.0</td>\n",
       "      <td>12.0</td>\n",
       "    </tr>\n",
       "  </tbody>\n",
       "</table>\n",
       "</div>"
      ],
      "text/plain": [
       "   User_ID Product_ID Gender    Age  Occupation City_Category  \\\n",
       "0  1000004  P00128942      M  46-50           7             B   \n",
       "1  1000009  P00113442      M  26-35          17             C   \n",
       "2  1000010  P00288442      F  36-45           1             B   \n",
       "3  1000010  P00145342      F  36-45           1             B   \n",
       "4  1000011  P00053842      F  26-35           1             C   \n",
       "\n",
       "  Stay_In_Current_City_Years  Marital_Status  Product_Category_1  \\\n",
       "0                          2               1                   1   \n",
       "1                          0               0                   3   \n",
       "2                         4+               1                   5   \n",
       "3                         4+               1                   4   \n",
       "4                          1               0                   4   \n",
       "\n",
       "   Product_Category_2  Product_Category_3  \n",
       "0                11.0                 NaN  \n",
       "1                 5.0                 NaN  \n",
       "2                14.0                 NaN  \n",
       "3                 9.0                 NaN  \n",
       "4                 5.0                12.0  "
      ]
     },
     "execution_count": 88,
     "metadata": {},
     "output_type": "execute_result"
    }
   ],
   "source": [
    "bf_test.head()"
   ]
  },
  {
   "cell_type": "code",
   "execution_count": 89,
   "metadata": {},
   "outputs": [
    {
     "name": "stdout",
     "output_type": "stream",
     "text": [
      "<class 'pandas.core.frame.DataFrame'>\n",
      "RangeIndex: 233599 entries, 0 to 233598\n",
      "Data columns (total 11 columns):\n",
      " #   Column                      Non-Null Count   Dtype  \n",
      "---  ------                      --------------   -----  \n",
      " 0   User_ID                     233599 non-null  int64  \n",
      " 1   Product_ID                  233599 non-null  object \n",
      " 2   Gender                      233599 non-null  object \n",
      " 3   Age                         233599 non-null  object \n",
      " 4   Occupation                  233599 non-null  int64  \n",
      " 5   City_Category               233599 non-null  object \n",
      " 6   Stay_In_Current_City_Years  233599 non-null  object \n",
      " 7   Marital_Status              233599 non-null  int64  \n",
      " 8   Product_Category_1          233599 non-null  int64  \n",
      " 9   Product_Category_2          161255 non-null  float64\n",
      " 10  Product_Category_3          71037 non-null   float64\n",
      "dtypes: float64(2), int64(4), object(5)\n",
      "memory usage: 19.6+ MB\n"
     ]
    }
   ],
   "source": [
    "bf_test.info()"
   ]
  },
  {
   "cell_type": "code",
   "execution_count": 90,
   "metadata": {},
   "outputs": [
    {
     "data": {
      "text/html": [
       "<div>\n",
       "<style scoped>\n",
       "    .dataframe tbody tr th:only-of-type {\n",
       "        vertical-align: middle;\n",
       "    }\n",
       "\n",
       "    .dataframe tbody tr th {\n",
       "        vertical-align: top;\n",
       "    }\n",
       "\n",
       "    .dataframe thead th {\n",
       "        text-align: right;\n",
       "    }\n",
       "</style>\n",
       "<table border=\"1\" class=\"dataframe\">\n",
       "  <thead>\n",
       "    <tr style=\"text-align: right;\">\n",
       "      <th></th>\n",
       "      <th>User_ID</th>\n",
       "      <th>Product_ID</th>\n",
       "      <th>Gender</th>\n",
       "      <th>Age</th>\n",
       "      <th>Occupation</th>\n",
       "      <th>City_Category</th>\n",
       "      <th>Stay_In_Current_City_Years</th>\n",
       "      <th>Marital_Status</th>\n",
       "      <th>Product_Category_1</th>\n",
       "      <th>Product_Category_2</th>\n",
       "      <th>Product_Category_3</th>\n",
       "    </tr>\n",
       "  </thead>\n",
       "  <tbody>\n",
       "    <tr>\n",
       "      <th>233594</th>\n",
       "      <td>1006036</td>\n",
       "      <td>P00118942</td>\n",
       "      <td>F</td>\n",
       "      <td>26-35</td>\n",
       "      <td>15</td>\n",
       "      <td>B</td>\n",
       "      <td>4+</td>\n",
       "      <td>1</td>\n",
       "      <td>8</td>\n",
       "      <td>NaN</td>\n",
       "      <td>NaN</td>\n",
       "    </tr>\n",
       "    <tr>\n",
       "      <th>233595</th>\n",
       "      <td>1006036</td>\n",
       "      <td>P00254642</td>\n",
       "      <td>F</td>\n",
       "      <td>26-35</td>\n",
       "      <td>15</td>\n",
       "      <td>B</td>\n",
       "      <td>4+</td>\n",
       "      <td>1</td>\n",
       "      <td>5</td>\n",
       "      <td>8.0</td>\n",
       "      <td>NaN</td>\n",
       "    </tr>\n",
       "    <tr>\n",
       "      <th>233596</th>\n",
       "      <td>1006036</td>\n",
       "      <td>P00031842</td>\n",
       "      <td>F</td>\n",
       "      <td>26-35</td>\n",
       "      <td>15</td>\n",
       "      <td>B</td>\n",
       "      <td>4+</td>\n",
       "      <td>1</td>\n",
       "      <td>1</td>\n",
       "      <td>5.0</td>\n",
       "      <td>12.0</td>\n",
       "    </tr>\n",
       "    <tr>\n",
       "      <th>233597</th>\n",
       "      <td>1006037</td>\n",
       "      <td>P00124742</td>\n",
       "      <td>F</td>\n",
       "      <td>46-50</td>\n",
       "      <td>1</td>\n",
       "      <td>C</td>\n",
       "      <td>4+</td>\n",
       "      <td>0</td>\n",
       "      <td>10</td>\n",
       "      <td>16.0</td>\n",
       "      <td>NaN</td>\n",
       "    </tr>\n",
       "    <tr>\n",
       "      <th>233598</th>\n",
       "      <td>1006039</td>\n",
       "      <td>P00316642</td>\n",
       "      <td>F</td>\n",
       "      <td>46-50</td>\n",
       "      <td>0</td>\n",
       "      <td>B</td>\n",
       "      <td>4+</td>\n",
       "      <td>1</td>\n",
       "      <td>4</td>\n",
       "      <td>5.0</td>\n",
       "      <td>NaN</td>\n",
       "    </tr>\n",
       "  </tbody>\n",
       "</table>\n",
       "</div>"
      ],
      "text/plain": [
       "        User_ID Product_ID Gender    Age  Occupation City_Category  \\\n",
       "233594  1006036  P00118942      F  26-35          15             B   \n",
       "233595  1006036  P00254642      F  26-35          15             B   \n",
       "233596  1006036  P00031842      F  26-35          15             B   \n",
       "233597  1006037  P00124742      F  46-50           1             C   \n",
       "233598  1006039  P00316642      F  46-50           0             B   \n",
       "\n",
       "       Stay_In_Current_City_Years  Marital_Status  Product_Category_1  \\\n",
       "233594                         4+               1                   8   \n",
       "233595                         4+               1                   5   \n",
       "233596                         4+               1                   1   \n",
       "233597                         4+               0                  10   \n",
       "233598                         4+               1                   4   \n",
       "\n",
       "        Product_Category_2  Product_Category_3  \n",
       "233594                 NaN                 NaN  \n",
       "233595                 8.0                 NaN  \n",
       "233596                 5.0                12.0  \n",
       "233597                16.0                 NaN  \n",
       "233598                 5.0                 NaN  "
      ]
     },
     "execution_count": 90,
     "metadata": {},
     "output_type": "execute_result"
    }
   ],
   "source": [
    "bf_test.tail()"
   ]
  },
  {
   "cell_type": "markdown",
   "metadata": {},
   "source": [
    "### Combining train and test dataset"
   ]
  },
  {
   "cell_type": "code",
   "execution_count": 91,
   "metadata": {},
   "outputs": [
    {
     "data": {
      "text/html": [
       "<div>\n",
       "<style scoped>\n",
       "    .dataframe tbody tr th:only-of-type {\n",
       "        vertical-align: middle;\n",
       "    }\n",
       "\n",
       "    .dataframe tbody tr th {\n",
       "        vertical-align: top;\n",
       "    }\n",
       "\n",
       "    .dataframe thead th {\n",
       "        text-align: right;\n",
       "    }\n",
       "</style>\n",
       "<table border=\"1\" class=\"dataframe\">\n",
       "  <thead>\n",
       "    <tr style=\"text-align: right;\">\n",
       "      <th></th>\n",
       "      <th>User_ID</th>\n",
       "      <th>Product_ID</th>\n",
       "      <th>Gender</th>\n",
       "      <th>Age</th>\n",
       "      <th>Occupation</th>\n",
       "      <th>City_Category</th>\n",
       "      <th>Stay_In_Current_City_Years</th>\n",
       "      <th>Marital_Status</th>\n",
       "      <th>Product_Category_1</th>\n",
       "      <th>Product_Category_2</th>\n",
       "      <th>Product_Category_3</th>\n",
       "      <th>Purchase</th>\n",
       "    </tr>\n",
       "  </thead>\n",
       "  <tbody>\n",
       "    <tr>\n",
       "      <th>0</th>\n",
       "      <td>1000001</td>\n",
       "      <td>P00069042</td>\n",
       "      <td>F</td>\n",
       "      <td>0-17</td>\n",
       "      <td>10</td>\n",
       "      <td>A</td>\n",
       "      <td>2</td>\n",
       "      <td>0</td>\n",
       "      <td>3</td>\n",
       "      <td>NaN</td>\n",
       "      <td>NaN</td>\n",
       "      <td>8370.0</td>\n",
       "    </tr>\n",
       "    <tr>\n",
       "      <th>1</th>\n",
       "      <td>1000001</td>\n",
       "      <td>P00248942</td>\n",
       "      <td>F</td>\n",
       "      <td>0-17</td>\n",
       "      <td>10</td>\n",
       "      <td>A</td>\n",
       "      <td>2</td>\n",
       "      <td>0</td>\n",
       "      <td>1</td>\n",
       "      <td>6.0</td>\n",
       "      <td>14.0</td>\n",
       "      <td>15200.0</td>\n",
       "    </tr>\n",
       "    <tr>\n",
       "      <th>2</th>\n",
       "      <td>1000001</td>\n",
       "      <td>P00087842</td>\n",
       "      <td>F</td>\n",
       "      <td>0-17</td>\n",
       "      <td>10</td>\n",
       "      <td>A</td>\n",
       "      <td>2</td>\n",
       "      <td>0</td>\n",
       "      <td>12</td>\n",
       "      <td>NaN</td>\n",
       "      <td>NaN</td>\n",
       "      <td>1422.0</td>\n",
       "    </tr>\n",
       "    <tr>\n",
       "      <th>3</th>\n",
       "      <td>1000001</td>\n",
       "      <td>P00085442</td>\n",
       "      <td>F</td>\n",
       "      <td>0-17</td>\n",
       "      <td>10</td>\n",
       "      <td>A</td>\n",
       "      <td>2</td>\n",
       "      <td>0</td>\n",
       "      <td>12</td>\n",
       "      <td>14.0</td>\n",
       "      <td>NaN</td>\n",
       "      <td>1057.0</td>\n",
       "    </tr>\n",
       "    <tr>\n",
       "      <th>4</th>\n",
       "      <td>1000002</td>\n",
       "      <td>P00285442</td>\n",
       "      <td>M</td>\n",
       "      <td>55+</td>\n",
       "      <td>16</td>\n",
       "      <td>C</td>\n",
       "      <td>4+</td>\n",
       "      <td>0</td>\n",
       "      <td>8</td>\n",
       "      <td>NaN</td>\n",
       "      <td>NaN</td>\n",
       "      <td>7969.0</td>\n",
       "    </tr>\n",
       "  </tbody>\n",
       "</table>\n",
       "</div>"
      ],
      "text/plain": [
       "   User_ID Product_ID Gender   Age  Occupation City_Category  \\\n",
       "0  1000001  P00069042      F  0-17          10             A   \n",
       "1  1000001  P00248942      F  0-17          10             A   \n",
       "2  1000001  P00087842      F  0-17          10             A   \n",
       "3  1000001  P00085442      F  0-17          10             A   \n",
       "4  1000002  P00285442      M   55+          16             C   \n",
       "\n",
       "  Stay_In_Current_City_Years  Marital_Status  Product_Category_1  \\\n",
       "0                          2               0                   3   \n",
       "1                          2               0                   1   \n",
       "2                          2               0                  12   \n",
       "3                          2               0                  12   \n",
       "4                         4+               0                   8   \n",
       "\n",
       "   Product_Category_2  Product_Category_3  Purchase  \n",
       "0                 NaN                 NaN    8370.0  \n",
       "1                 6.0                14.0   15200.0  \n",
       "2                 NaN                 NaN    1422.0  \n",
       "3                14.0                 NaN    1057.0  \n",
       "4                 NaN                 NaN    7969.0  "
      ]
     },
     "execution_count": 91,
     "metadata": {},
     "output_type": "execute_result"
    }
   ],
   "source": [
    "bf=bf_train.append(bf_test,sort=False)\n",
    "bf.head()"
   ]
  },
  {
   "cell_type": "markdown",
   "metadata": {},
   "source": [
    "### Describe the basic statistics of data"
   ]
  },
  {
   "cell_type": "code",
   "execution_count": 92,
   "metadata": {},
   "outputs": [
    {
     "data": {
      "text/html": [
       "<div>\n",
       "<style scoped>\n",
       "    .dataframe tbody tr th:only-of-type {\n",
       "        vertical-align: middle;\n",
       "    }\n",
       "\n",
       "    .dataframe tbody tr th {\n",
       "        vertical-align: top;\n",
       "    }\n",
       "\n",
       "    .dataframe thead th {\n",
       "        text-align: right;\n",
       "    }\n",
       "</style>\n",
       "<table border=\"1\" class=\"dataframe\">\n",
       "  <thead>\n",
       "    <tr style=\"text-align: right;\">\n",
       "      <th></th>\n",
       "      <th>User_ID</th>\n",
       "      <th>Occupation</th>\n",
       "      <th>Marital_Status</th>\n",
       "      <th>Product_Category_1</th>\n",
       "      <th>Product_Category_2</th>\n",
       "      <th>Product_Category_3</th>\n",
       "      <th>Purchase</th>\n",
       "    </tr>\n",
       "  </thead>\n",
       "  <tbody>\n",
       "    <tr>\n",
       "      <th>count</th>\n",
       "      <td>7.836670e+05</td>\n",
       "      <td>783667.000000</td>\n",
       "      <td>783667.000000</td>\n",
       "      <td>783667.000000</td>\n",
       "      <td>537685.000000</td>\n",
       "      <td>237858.000000</td>\n",
       "      <td>550068.000000</td>\n",
       "    </tr>\n",
       "    <tr>\n",
       "      <th>mean</th>\n",
       "      <td>1.003029e+06</td>\n",
       "      <td>8.079300</td>\n",
       "      <td>0.409777</td>\n",
       "      <td>5.366196</td>\n",
       "      <td>9.844506</td>\n",
       "      <td>12.668605</td>\n",
       "      <td>9263.968713</td>\n",
       "    </tr>\n",
       "    <tr>\n",
       "      <th>std</th>\n",
       "      <td>1.727267e+03</td>\n",
       "      <td>6.522206</td>\n",
       "      <td>0.491793</td>\n",
       "      <td>3.878160</td>\n",
       "      <td>5.089093</td>\n",
       "      <td>4.125510</td>\n",
       "      <td>5023.065394</td>\n",
       "    </tr>\n",
       "    <tr>\n",
       "      <th>min</th>\n",
       "      <td>1.000001e+06</td>\n",
       "      <td>0.000000</td>\n",
       "      <td>0.000000</td>\n",
       "      <td>1.000000</td>\n",
       "      <td>2.000000</td>\n",
       "      <td>3.000000</td>\n",
       "      <td>12.000000</td>\n",
       "    </tr>\n",
       "    <tr>\n",
       "      <th>25%</th>\n",
       "      <td>1.001519e+06</td>\n",
       "      <td>2.000000</td>\n",
       "      <td>0.000000</td>\n",
       "      <td>1.000000</td>\n",
       "      <td>5.000000</td>\n",
       "      <td>9.000000</td>\n",
       "      <td>5823.000000</td>\n",
       "    </tr>\n",
       "    <tr>\n",
       "      <th>50%</th>\n",
       "      <td>1.003075e+06</td>\n",
       "      <td>7.000000</td>\n",
       "      <td>0.000000</td>\n",
       "      <td>5.000000</td>\n",
       "      <td>9.000000</td>\n",
       "      <td>14.000000</td>\n",
       "      <td>8047.000000</td>\n",
       "    </tr>\n",
       "    <tr>\n",
       "      <th>75%</th>\n",
       "      <td>1.004478e+06</td>\n",
       "      <td>14.000000</td>\n",
       "      <td>1.000000</td>\n",
       "      <td>8.000000</td>\n",
       "      <td>15.000000</td>\n",
       "      <td>16.000000</td>\n",
       "      <td>12054.000000</td>\n",
       "    </tr>\n",
       "    <tr>\n",
       "      <th>max</th>\n",
       "      <td>1.006040e+06</td>\n",
       "      <td>20.000000</td>\n",
       "      <td>1.000000</td>\n",
       "      <td>20.000000</td>\n",
       "      <td>18.000000</td>\n",
       "      <td>18.000000</td>\n",
       "      <td>23961.000000</td>\n",
       "    </tr>\n",
       "  </tbody>\n",
       "</table>\n",
       "</div>"
      ],
      "text/plain": [
       "            User_ID     Occupation  Marital_Status  Product_Category_1  \\\n",
       "count  7.836670e+05  783667.000000   783667.000000       783667.000000   \n",
       "mean   1.003029e+06       8.079300        0.409777            5.366196   \n",
       "std    1.727267e+03       6.522206        0.491793            3.878160   \n",
       "min    1.000001e+06       0.000000        0.000000            1.000000   \n",
       "25%    1.001519e+06       2.000000        0.000000            1.000000   \n",
       "50%    1.003075e+06       7.000000        0.000000            5.000000   \n",
       "75%    1.004478e+06      14.000000        1.000000            8.000000   \n",
       "max    1.006040e+06      20.000000        1.000000           20.000000   \n",
       "\n",
       "       Product_Category_2  Product_Category_3       Purchase  \n",
       "count       537685.000000       237858.000000  550068.000000  \n",
       "mean             9.844506           12.668605    9263.968713  \n",
       "std              5.089093            4.125510    5023.065394  \n",
       "min              2.000000            3.000000      12.000000  \n",
       "25%              5.000000            9.000000    5823.000000  \n",
       "50%              9.000000           14.000000    8047.000000  \n",
       "75%             15.000000           16.000000   12054.000000  \n",
       "max             18.000000           18.000000   23961.000000  "
      ]
     },
     "execution_count": 92,
     "metadata": {},
     "output_type": "execute_result"
    }
   ],
   "source": [
    "bf.describe()"
   ]
  },
  {
   "cell_type": "markdown",
   "metadata": {},
   "source": [
    "### Transforming Columns"
   ]
  },
  {
   "cell_type": "code",
   "execution_count": 93,
   "metadata": {},
   "outputs": [
    {
     "data": {
      "text/html": [
       "<div>\n",
       "<style scoped>\n",
       "    .dataframe tbody tr th:only-of-type {\n",
       "        vertical-align: middle;\n",
       "    }\n",
       "\n",
       "    .dataframe tbody tr th {\n",
       "        vertical-align: top;\n",
       "    }\n",
       "\n",
       "    .dataframe thead th {\n",
       "        text-align: right;\n",
       "    }\n",
       "</style>\n",
       "<table border=\"1\" class=\"dataframe\">\n",
       "  <thead>\n",
       "    <tr style=\"text-align: right;\">\n",
       "      <th></th>\n",
       "      <th>Product_ID</th>\n",
       "      <th>Gender</th>\n",
       "      <th>Age</th>\n",
       "      <th>Occupation</th>\n",
       "      <th>City_Category</th>\n",
       "      <th>Stay_In_Current_City_Years</th>\n",
       "      <th>Marital_Status</th>\n",
       "      <th>Product_Category_1</th>\n",
       "      <th>Product_Category_2</th>\n",
       "      <th>Product_Category_3</th>\n",
       "      <th>Purchase</th>\n",
       "    </tr>\n",
       "  </thead>\n",
       "  <tbody>\n",
       "    <tr>\n",
       "      <th>0</th>\n",
       "      <td>P00069042</td>\n",
       "      <td>F</td>\n",
       "      <td>0-17</td>\n",
       "      <td>10</td>\n",
       "      <td>A</td>\n",
       "      <td>2</td>\n",
       "      <td>0</td>\n",
       "      <td>3</td>\n",
       "      <td>NaN</td>\n",
       "      <td>NaN</td>\n",
       "      <td>8370.0</td>\n",
       "    </tr>\n",
       "    <tr>\n",
       "      <th>1</th>\n",
       "      <td>P00248942</td>\n",
       "      <td>F</td>\n",
       "      <td>0-17</td>\n",
       "      <td>10</td>\n",
       "      <td>A</td>\n",
       "      <td>2</td>\n",
       "      <td>0</td>\n",
       "      <td>1</td>\n",
       "      <td>6.0</td>\n",
       "      <td>14.0</td>\n",
       "      <td>15200.0</td>\n",
       "    </tr>\n",
       "    <tr>\n",
       "      <th>2</th>\n",
       "      <td>P00087842</td>\n",
       "      <td>F</td>\n",
       "      <td>0-17</td>\n",
       "      <td>10</td>\n",
       "      <td>A</td>\n",
       "      <td>2</td>\n",
       "      <td>0</td>\n",
       "      <td>12</td>\n",
       "      <td>NaN</td>\n",
       "      <td>NaN</td>\n",
       "      <td>1422.0</td>\n",
       "    </tr>\n",
       "    <tr>\n",
       "      <th>3</th>\n",
       "      <td>P00085442</td>\n",
       "      <td>F</td>\n",
       "      <td>0-17</td>\n",
       "      <td>10</td>\n",
       "      <td>A</td>\n",
       "      <td>2</td>\n",
       "      <td>0</td>\n",
       "      <td>12</td>\n",
       "      <td>14.0</td>\n",
       "      <td>NaN</td>\n",
       "      <td>1057.0</td>\n",
       "    </tr>\n",
       "    <tr>\n",
       "      <th>4</th>\n",
       "      <td>P00285442</td>\n",
       "      <td>M</td>\n",
       "      <td>55+</td>\n",
       "      <td>16</td>\n",
       "      <td>C</td>\n",
       "      <td>4+</td>\n",
       "      <td>0</td>\n",
       "      <td>8</td>\n",
       "      <td>NaN</td>\n",
       "      <td>NaN</td>\n",
       "      <td>7969.0</td>\n",
       "    </tr>\n",
       "  </tbody>\n",
       "</table>\n",
       "</div>"
      ],
      "text/plain": [
       "  Product_ID Gender   Age  Occupation City_Category  \\\n",
       "0  P00069042      F  0-17          10             A   \n",
       "1  P00248942      F  0-17          10             A   \n",
       "2  P00087842      F  0-17          10             A   \n",
       "3  P00085442      F  0-17          10             A   \n",
       "4  P00285442      M   55+          16             C   \n",
       "\n",
       "  Stay_In_Current_City_Years  Marital_Status  Product_Category_1  \\\n",
       "0                          2               0                   3   \n",
       "1                          2               0                   1   \n",
       "2                          2               0                  12   \n",
       "3                          2               0                  12   \n",
       "4                         4+               0                   8   \n",
       "\n",
       "   Product_Category_2  Product_Category_3  Purchase  \n",
       "0                 NaN                 NaN    8370.0  \n",
       "1                 6.0                14.0   15200.0  \n",
       "2                 NaN                 NaN    1422.0  \n",
       "3                14.0                 NaN    1057.0  \n",
       "4                 NaN                 NaN    7969.0  "
      ]
     },
     "execution_count": 93,
     "metadata": {},
     "output_type": "execute_result"
    }
   ],
   "source": [
    "#Get rid of unnecessary column\n",
    "bf.drop('User_ID',axis=1,inplace=True)\n",
    "bf.head()"
   ]
  },
  {
   "cell_type": "code",
   "execution_count": 94,
   "metadata": {},
   "outputs": [
    {
     "data": {
      "text/html": [
       "<div>\n",
       "<style scoped>\n",
       "    .dataframe tbody tr th:only-of-type {\n",
       "        vertical-align: middle;\n",
       "    }\n",
       "\n",
       "    .dataframe tbody tr th {\n",
       "        vertical-align: top;\n",
       "    }\n",
       "\n",
       "    .dataframe thead th {\n",
       "        text-align: right;\n",
       "    }\n",
       "</style>\n",
       "<table border=\"1\" class=\"dataframe\">\n",
       "  <thead>\n",
       "    <tr style=\"text-align: right;\">\n",
       "      <th></th>\n",
       "      <th>Product_ID</th>\n",
       "      <th>Gender</th>\n",
       "      <th>Age</th>\n",
       "      <th>Occupation</th>\n",
       "      <th>City_Category</th>\n",
       "      <th>Stay_In_Current_City_Years</th>\n",
       "      <th>Marital_Status</th>\n",
       "      <th>Product_Category_1</th>\n",
       "      <th>Product_Category_2</th>\n",
       "      <th>Product_Category_3</th>\n",
       "      <th>Purchase</th>\n",
       "    </tr>\n",
       "  </thead>\n",
       "  <tbody>\n",
       "    <tr>\n",
       "      <th>0</th>\n",
       "      <td>P00069042</td>\n",
       "      <td>0</td>\n",
       "      <td>0-17</td>\n",
       "      <td>10</td>\n",
       "      <td>A</td>\n",
       "      <td>2</td>\n",
       "      <td>0</td>\n",
       "      <td>3</td>\n",
       "      <td>NaN</td>\n",
       "      <td>NaN</td>\n",
       "      <td>8370.0</td>\n",
       "    </tr>\n",
       "    <tr>\n",
       "      <th>1</th>\n",
       "      <td>P00248942</td>\n",
       "      <td>0</td>\n",
       "      <td>0-17</td>\n",
       "      <td>10</td>\n",
       "      <td>A</td>\n",
       "      <td>2</td>\n",
       "      <td>0</td>\n",
       "      <td>1</td>\n",
       "      <td>6.0</td>\n",
       "      <td>14.0</td>\n",
       "      <td>15200.0</td>\n",
       "    </tr>\n",
       "    <tr>\n",
       "      <th>2</th>\n",
       "      <td>P00087842</td>\n",
       "      <td>0</td>\n",
       "      <td>0-17</td>\n",
       "      <td>10</td>\n",
       "      <td>A</td>\n",
       "      <td>2</td>\n",
       "      <td>0</td>\n",
       "      <td>12</td>\n",
       "      <td>NaN</td>\n",
       "      <td>NaN</td>\n",
       "      <td>1422.0</td>\n",
       "    </tr>\n",
       "    <tr>\n",
       "      <th>3</th>\n",
       "      <td>P00085442</td>\n",
       "      <td>0</td>\n",
       "      <td>0-17</td>\n",
       "      <td>10</td>\n",
       "      <td>A</td>\n",
       "      <td>2</td>\n",
       "      <td>0</td>\n",
       "      <td>12</td>\n",
       "      <td>14.0</td>\n",
       "      <td>NaN</td>\n",
       "      <td>1057.0</td>\n",
       "    </tr>\n",
       "    <tr>\n",
       "      <th>4</th>\n",
       "      <td>P00285442</td>\n",
       "      <td>1</td>\n",
       "      <td>55+</td>\n",
       "      <td>16</td>\n",
       "      <td>C</td>\n",
       "      <td>4+</td>\n",
       "      <td>0</td>\n",
       "      <td>8</td>\n",
       "      <td>NaN</td>\n",
       "      <td>NaN</td>\n",
       "      <td>7969.0</td>\n",
       "    </tr>\n",
       "  </tbody>\n",
       "</table>\n",
       "</div>"
      ],
      "text/plain": [
       "  Product_ID  Gender   Age  Occupation City_Category  \\\n",
       "0  P00069042       0  0-17          10             A   \n",
       "1  P00248942       0  0-17          10             A   \n",
       "2  P00087842       0  0-17          10             A   \n",
       "3  P00085442       0  0-17          10             A   \n",
       "4  P00285442       1   55+          16             C   \n",
       "\n",
       "  Stay_In_Current_City_Years  Marital_Status  Product_Category_1  \\\n",
       "0                          2               0                   3   \n",
       "1                          2               0                   1   \n",
       "2                          2               0                  12   \n",
       "3                          2               0                  12   \n",
       "4                         4+               0                   8   \n",
       "\n",
       "   Product_Category_2  Product_Category_3  Purchase  \n",
       "0                 NaN                 NaN    8370.0  \n",
       "1                 6.0                14.0   15200.0  \n",
       "2                 NaN                 NaN    1422.0  \n",
       "3                14.0                 NaN    1057.0  \n",
       "4                 NaN                 NaN    7969.0  "
      ]
     },
     "execution_count": 94,
     "metadata": {},
     "output_type": "execute_result"
    }
   ],
   "source": [
    "#Convert categorical data into numeric\n",
    "bf['Gender']=bf['Gender'].map({'F':0,'M':1})\n",
    "bf.head()"
   ]
  },
  {
   "cell_type": "code",
   "execution_count": 95,
   "metadata": {},
   "outputs": [
    {
     "data": {
      "text/plain": [
       "array(['A', 'C', 'B'], dtype=object)"
      ]
     },
     "execution_count": 95,
     "metadata": {},
     "output_type": "execute_result"
    }
   ],
   "source": [
    "bf['City_Category'].unique()"
   ]
  },
  {
   "cell_type": "code",
   "execution_count": 96,
   "metadata": {},
   "outputs": [
    {
     "data": {
      "text/html": [
       "<div>\n",
       "<style scoped>\n",
       "    .dataframe tbody tr th:only-of-type {\n",
       "        vertical-align: middle;\n",
       "    }\n",
       "\n",
       "    .dataframe tbody tr th {\n",
       "        vertical-align: top;\n",
       "    }\n",
       "\n",
       "    .dataframe thead th {\n",
       "        text-align: right;\n",
       "    }\n",
       "</style>\n",
       "<table border=\"1\" class=\"dataframe\">\n",
       "  <thead>\n",
       "    <tr style=\"text-align: right;\">\n",
       "      <th></th>\n",
       "      <th>B</th>\n",
       "      <th>C</th>\n",
       "    </tr>\n",
       "  </thead>\n",
       "  <tbody>\n",
       "    <tr>\n",
       "      <th>0</th>\n",
       "      <td>0</td>\n",
       "      <td>0</td>\n",
       "    </tr>\n",
       "    <tr>\n",
       "      <th>1</th>\n",
       "      <td>0</td>\n",
       "      <td>0</td>\n",
       "    </tr>\n",
       "    <tr>\n",
       "      <th>2</th>\n",
       "      <td>0</td>\n",
       "      <td>0</td>\n",
       "    </tr>\n",
       "    <tr>\n",
       "      <th>3</th>\n",
       "      <td>0</td>\n",
       "      <td>0</td>\n",
       "    </tr>\n",
       "    <tr>\n",
       "      <th>4</th>\n",
       "      <td>0</td>\n",
       "      <td>1</td>\n",
       "    </tr>\n",
       "  </tbody>\n",
       "</table>\n",
       "</div>"
      ],
      "text/plain": [
       "   B  C\n",
       "0  0  0\n",
       "1  0  0\n",
       "2  0  0\n",
       "3  0  0\n",
       "4  0  1"
      ]
     },
     "execution_count": 96,
     "metadata": {},
     "output_type": "execute_result"
    }
   ],
   "source": [
    "city=pd.get_dummies(bf['City_Category'],drop_first=True)\n",
    "city.head()"
   ]
  },
  {
   "cell_type": "code",
   "execution_count": 97,
   "metadata": {},
   "outputs": [],
   "source": [
    "#Concat the dummy variable "
   ]
  },
  {
   "cell_type": "code",
   "execution_count": 98,
   "metadata": {},
   "outputs": [],
   "source": [
    "bf=pd.concat([bf,city],axis=1)"
   ]
  },
  {
   "cell_type": "code",
   "execution_count": 99,
   "metadata": {},
   "outputs": [
    {
     "data": {
      "text/html": [
       "<div>\n",
       "<style scoped>\n",
       "    .dataframe tbody tr th:only-of-type {\n",
       "        vertical-align: middle;\n",
       "    }\n",
       "\n",
       "    .dataframe tbody tr th {\n",
       "        vertical-align: top;\n",
       "    }\n",
       "\n",
       "    .dataframe thead th {\n",
       "        text-align: right;\n",
       "    }\n",
       "</style>\n",
       "<table border=\"1\" class=\"dataframe\">\n",
       "  <thead>\n",
       "    <tr style=\"text-align: right;\">\n",
       "      <th></th>\n",
       "      <th>Product_ID</th>\n",
       "      <th>Gender</th>\n",
       "      <th>Age</th>\n",
       "      <th>Occupation</th>\n",
       "      <th>City_Category</th>\n",
       "      <th>Stay_In_Current_City_Years</th>\n",
       "      <th>Marital_Status</th>\n",
       "      <th>Product_Category_1</th>\n",
       "      <th>Product_Category_2</th>\n",
       "      <th>Product_Category_3</th>\n",
       "      <th>Purchase</th>\n",
       "      <th>B</th>\n",
       "      <th>C</th>\n",
       "    </tr>\n",
       "  </thead>\n",
       "  <tbody>\n",
       "    <tr>\n",
       "      <th>0</th>\n",
       "      <td>P00069042</td>\n",
       "      <td>0</td>\n",
       "      <td>0-17</td>\n",
       "      <td>10</td>\n",
       "      <td>A</td>\n",
       "      <td>2</td>\n",
       "      <td>0</td>\n",
       "      <td>3</td>\n",
       "      <td>NaN</td>\n",
       "      <td>NaN</td>\n",
       "      <td>8370.0</td>\n",
       "      <td>0</td>\n",
       "      <td>0</td>\n",
       "    </tr>\n",
       "    <tr>\n",
       "      <th>1</th>\n",
       "      <td>P00248942</td>\n",
       "      <td>0</td>\n",
       "      <td>0-17</td>\n",
       "      <td>10</td>\n",
       "      <td>A</td>\n",
       "      <td>2</td>\n",
       "      <td>0</td>\n",
       "      <td>1</td>\n",
       "      <td>6.0</td>\n",
       "      <td>14.0</td>\n",
       "      <td>15200.0</td>\n",
       "      <td>0</td>\n",
       "      <td>0</td>\n",
       "    </tr>\n",
       "    <tr>\n",
       "      <th>2</th>\n",
       "      <td>P00087842</td>\n",
       "      <td>0</td>\n",
       "      <td>0-17</td>\n",
       "      <td>10</td>\n",
       "      <td>A</td>\n",
       "      <td>2</td>\n",
       "      <td>0</td>\n",
       "      <td>12</td>\n",
       "      <td>NaN</td>\n",
       "      <td>NaN</td>\n",
       "      <td>1422.0</td>\n",
       "      <td>0</td>\n",
       "      <td>0</td>\n",
       "    </tr>\n",
       "    <tr>\n",
       "      <th>3</th>\n",
       "      <td>P00085442</td>\n",
       "      <td>0</td>\n",
       "      <td>0-17</td>\n",
       "      <td>10</td>\n",
       "      <td>A</td>\n",
       "      <td>2</td>\n",
       "      <td>0</td>\n",
       "      <td>12</td>\n",
       "      <td>14.0</td>\n",
       "      <td>NaN</td>\n",
       "      <td>1057.0</td>\n",
       "      <td>0</td>\n",
       "      <td>0</td>\n",
       "    </tr>\n",
       "    <tr>\n",
       "      <th>4</th>\n",
       "      <td>P00285442</td>\n",
       "      <td>1</td>\n",
       "      <td>55+</td>\n",
       "      <td>16</td>\n",
       "      <td>C</td>\n",
       "      <td>4+</td>\n",
       "      <td>0</td>\n",
       "      <td>8</td>\n",
       "      <td>NaN</td>\n",
       "      <td>NaN</td>\n",
       "      <td>7969.0</td>\n",
       "      <td>0</td>\n",
       "      <td>1</td>\n",
       "    </tr>\n",
       "  </tbody>\n",
       "</table>\n",
       "</div>"
      ],
      "text/plain": [
       "  Product_ID  Gender   Age  Occupation City_Category  \\\n",
       "0  P00069042       0  0-17          10             A   \n",
       "1  P00248942       0  0-17          10             A   \n",
       "2  P00087842       0  0-17          10             A   \n",
       "3  P00085442       0  0-17          10             A   \n",
       "4  P00285442       1   55+          16             C   \n",
       "\n",
       "  Stay_In_Current_City_Years  Marital_Status  Product_Category_1  \\\n",
       "0                          2               0                   3   \n",
       "1                          2               0                   1   \n",
       "2                          2               0                  12   \n",
       "3                          2               0                  12   \n",
       "4                         4+               0                   8   \n",
       "\n",
       "   Product_Category_2  Product_Category_3  Purchase  B  C  \n",
       "0                 NaN                 NaN    8370.0  0  0  \n",
       "1                 6.0                14.0   15200.0  0  0  \n",
       "2                 NaN                 NaN    1422.0  0  0  \n",
       "3                14.0                 NaN    1057.0  0  0  \n",
       "4                 NaN                 NaN    7969.0  0  1  "
      ]
     },
     "execution_count": 99,
     "metadata": {},
     "output_type": "execute_result"
    }
   ],
   "source": [
    "bf.head()"
   ]
  },
  {
   "cell_type": "code",
   "execution_count": 100,
   "metadata": {},
   "outputs": [
    {
     "data": {
      "text/html": [
       "<div>\n",
       "<style scoped>\n",
       "    .dataframe tbody tr th:only-of-type {\n",
       "        vertical-align: middle;\n",
       "    }\n",
       "\n",
       "    .dataframe tbody tr th {\n",
       "        vertical-align: top;\n",
       "    }\n",
       "\n",
       "    .dataframe thead th {\n",
       "        text-align: right;\n",
       "    }\n",
       "</style>\n",
       "<table border=\"1\" class=\"dataframe\">\n",
       "  <thead>\n",
       "    <tr style=\"text-align: right;\">\n",
       "      <th></th>\n",
       "      <th>Product_ID</th>\n",
       "      <th>Gender</th>\n",
       "      <th>Age</th>\n",
       "      <th>Occupation</th>\n",
       "      <th>Stay_In_Current_City_Years</th>\n",
       "      <th>Marital_Status</th>\n",
       "      <th>Product_Category_1</th>\n",
       "      <th>Product_Category_2</th>\n",
       "      <th>Product_Category_3</th>\n",
       "      <th>Purchase</th>\n",
       "      <th>B</th>\n",
       "      <th>C</th>\n",
       "    </tr>\n",
       "  </thead>\n",
       "  <tbody>\n",
       "    <tr>\n",
       "      <th>0</th>\n",
       "      <td>P00069042</td>\n",
       "      <td>0</td>\n",
       "      <td>0-17</td>\n",
       "      <td>10</td>\n",
       "      <td>2</td>\n",
       "      <td>0</td>\n",
       "      <td>3</td>\n",
       "      <td>NaN</td>\n",
       "      <td>NaN</td>\n",
       "      <td>8370.0</td>\n",
       "      <td>0</td>\n",
       "      <td>0</td>\n",
       "    </tr>\n",
       "    <tr>\n",
       "      <th>1</th>\n",
       "      <td>P00248942</td>\n",
       "      <td>0</td>\n",
       "      <td>0-17</td>\n",
       "      <td>10</td>\n",
       "      <td>2</td>\n",
       "      <td>0</td>\n",
       "      <td>1</td>\n",
       "      <td>6.0</td>\n",
       "      <td>14.0</td>\n",
       "      <td>15200.0</td>\n",
       "      <td>0</td>\n",
       "      <td>0</td>\n",
       "    </tr>\n",
       "    <tr>\n",
       "      <th>2</th>\n",
       "      <td>P00087842</td>\n",
       "      <td>0</td>\n",
       "      <td>0-17</td>\n",
       "      <td>10</td>\n",
       "      <td>2</td>\n",
       "      <td>0</td>\n",
       "      <td>12</td>\n",
       "      <td>NaN</td>\n",
       "      <td>NaN</td>\n",
       "      <td>1422.0</td>\n",
       "      <td>0</td>\n",
       "      <td>0</td>\n",
       "    </tr>\n",
       "    <tr>\n",
       "      <th>3</th>\n",
       "      <td>P00085442</td>\n",
       "      <td>0</td>\n",
       "      <td>0-17</td>\n",
       "      <td>10</td>\n",
       "      <td>2</td>\n",
       "      <td>0</td>\n",
       "      <td>12</td>\n",
       "      <td>14.0</td>\n",
       "      <td>NaN</td>\n",
       "      <td>1057.0</td>\n",
       "      <td>0</td>\n",
       "      <td>0</td>\n",
       "    </tr>\n",
       "    <tr>\n",
       "      <th>4</th>\n",
       "      <td>P00285442</td>\n",
       "      <td>1</td>\n",
       "      <td>55+</td>\n",
       "      <td>16</td>\n",
       "      <td>4+</td>\n",
       "      <td>0</td>\n",
       "      <td>8</td>\n",
       "      <td>NaN</td>\n",
       "      <td>NaN</td>\n",
       "      <td>7969.0</td>\n",
       "      <td>0</td>\n",
       "      <td>1</td>\n",
       "    </tr>\n",
       "  </tbody>\n",
       "</table>\n",
       "</div>"
      ],
      "text/plain": [
       "  Product_ID  Gender   Age  Occupation Stay_In_Current_City_Years  \\\n",
       "0  P00069042       0  0-17          10                          2   \n",
       "1  P00248942       0  0-17          10                          2   \n",
       "2  P00087842       0  0-17          10                          2   \n",
       "3  P00085442       0  0-17          10                          2   \n",
       "4  P00285442       1   55+          16                         4+   \n",
       "\n",
       "   Marital_Status  Product_Category_1  Product_Category_2  Product_Category_3  \\\n",
       "0               0                   3                 NaN                 NaN   \n",
       "1               0                   1                 6.0                14.0   \n",
       "2               0                  12                 NaN                 NaN   \n",
       "3               0                  12                14.0                 NaN   \n",
       "4               0                   8                 NaN                 NaN   \n",
       "\n",
       "   Purchase  B  C  \n",
       "0    8370.0  0  0  \n",
       "1   15200.0  0  0  \n",
       "2    1422.0  0  0  \n",
       "3    1057.0  0  0  \n",
       "4    7969.0  0  1  "
      ]
     },
     "execution_count": 100,
     "metadata": {},
     "output_type": "execute_result"
    }
   ],
   "source": [
    "#Dropping the City_Category column\n",
    "bf.drop('City_Category',axis=1,inplace=True)\n",
    "bf.head()"
   ]
  },
  {
   "cell_type": "code",
   "execution_count": 101,
   "metadata": {},
   "outputs": [
    {
     "data": {
      "text/plain": [
       "array(['0-17', '55+', '26-35', '46-50', '51-55', '36-45', '18-25'],\n",
       "      dtype=object)"
      ]
     },
     "execution_count": 101,
     "metadata": {},
     "output_type": "execute_result"
    }
   ],
   "source": [
    "#Checking the Age Column\n",
    "bf['Age'].unique()"
   ]
  },
  {
   "cell_type": "code",
   "execution_count": 102,
   "metadata": {},
   "outputs": [
    {
     "data": {
      "text/html": [
       "<div>\n",
       "<style scoped>\n",
       "    .dataframe tbody tr th:only-of-type {\n",
       "        vertical-align: middle;\n",
       "    }\n",
       "\n",
       "    .dataframe tbody tr th {\n",
       "        vertical-align: top;\n",
       "    }\n",
       "\n",
       "    .dataframe thead th {\n",
       "        text-align: right;\n",
       "    }\n",
       "</style>\n",
       "<table border=\"1\" class=\"dataframe\">\n",
       "  <thead>\n",
       "    <tr style=\"text-align: right;\">\n",
       "      <th></th>\n",
       "      <th>Product_ID</th>\n",
       "      <th>Gender</th>\n",
       "      <th>Age</th>\n",
       "      <th>Occupation</th>\n",
       "      <th>Stay_In_Current_City_Years</th>\n",
       "      <th>Marital_Status</th>\n",
       "      <th>Product_Category_1</th>\n",
       "      <th>Product_Category_2</th>\n",
       "      <th>Product_Category_3</th>\n",
       "      <th>Purchase</th>\n",
       "      <th>B</th>\n",
       "      <th>C</th>\n",
       "    </tr>\n",
       "  </thead>\n",
       "  <tbody>\n",
       "    <tr>\n",
       "      <th>233594</th>\n",
       "      <td>P00118942</td>\n",
       "      <td>0</td>\n",
       "      <td>3</td>\n",
       "      <td>15</td>\n",
       "      <td>4+</td>\n",
       "      <td>1</td>\n",
       "      <td>8</td>\n",
       "      <td>NaN</td>\n",
       "      <td>NaN</td>\n",
       "      <td>NaN</td>\n",
       "      <td>1</td>\n",
       "      <td>0</td>\n",
       "    </tr>\n",
       "    <tr>\n",
       "      <th>233595</th>\n",
       "      <td>P00254642</td>\n",
       "      <td>0</td>\n",
       "      <td>3</td>\n",
       "      <td>15</td>\n",
       "      <td>4+</td>\n",
       "      <td>1</td>\n",
       "      <td>5</td>\n",
       "      <td>8.0</td>\n",
       "      <td>NaN</td>\n",
       "      <td>NaN</td>\n",
       "      <td>1</td>\n",
       "      <td>0</td>\n",
       "    </tr>\n",
       "    <tr>\n",
       "      <th>233596</th>\n",
       "      <td>P00031842</td>\n",
       "      <td>0</td>\n",
       "      <td>3</td>\n",
       "      <td>15</td>\n",
       "      <td>4+</td>\n",
       "      <td>1</td>\n",
       "      <td>1</td>\n",
       "      <td>5.0</td>\n",
       "      <td>12.0</td>\n",
       "      <td>NaN</td>\n",
       "      <td>1</td>\n",
       "      <td>0</td>\n",
       "    </tr>\n",
       "    <tr>\n",
       "      <th>233597</th>\n",
       "      <td>P00124742</td>\n",
       "      <td>0</td>\n",
       "      <td>5</td>\n",
       "      <td>1</td>\n",
       "      <td>4+</td>\n",
       "      <td>0</td>\n",
       "      <td>10</td>\n",
       "      <td>16.0</td>\n",
       "      <td>NaN</td>\n",
       "      <td>NaN</td>\n",
       "      <td>0</td>\n",
       "      <td>1</td>\n",
       "    </tr>\n",
       "    <tr>\n",
       "      <th>233598</th>\n",
       "      <td>P00316642</td>\n",
       "      <td>0</td>\n",
       "      <td>5</td>\n",
       "      <td>0</td>\n",
       "      <td>4+</td>\n",
       "      <td>1</td>\n",
       "      <td>4</td>\n",
       "      <td>5.0</td>\n",
       "      <td>NaN</td>\n",
       "      <td>NaN</td>\n",
       "      <td>1</td>\n",
       "      <td>0</td>\n",
       "    </tr>\n",
       "  </tbody>\n",
       "</table>\n",
       "</div>"
      ],
      "text/plain": [
       "       Product_ID  Gender  Age  Occupation Stay_In_Current_City_Years  \\\n",
       "233594  P00118942       0    3          15                         4+   \n",
       "233595  P00254642       0    3          15                         4+   \n",
       "233596  P00031842       0    3          15                         4+   \n",
       "233597  P00124742       0    5           1                         4+   \n",
       "233598  P00316642       0    5           0                         4+   \n",
       "\n",
       "        Marital_Status  Product_Category_1  Product_Category_2  \\\n",
       "233594               1                   8                 NaN   \n",
       "233595               1                   5                 8.0   \n",
       "233596               1                   1                 5.0   \n",
       "233597               0                  10                16.0   \n",
       "233598               1                   4                 5.0   \n",
       "\n",
       "        Product_Category_3  Purchase  B  C  \n",
       "233594                 NaN       NaN  1  0  \n",
       "233595                 NaN       NaN  1  0  \n",
       "233596                12.0       NaN  1  0  \n",
       "233597                 NaN       NaN  0  1  \n",
       "233598                 NaN       NaN  1  0  "
      ]
     },
     "execution_count": 102,
     "metadata": {},
     "output_type": "execute_result"
    }
   ],
   "source": [
    "bf['Age']=bf['Age'].map({'0-17':1, '18-25':2, '26-35':3, '36-45':4, '46-50':5, '51-55':6, '55+':7 })\n",
    "bf.tail()"
   ]
  },
  {
   "cell_type": "code",
   "execution_count": 103,
   "metadata": {},
   "outputs": [
    {
     "data": {
      "text/plain": [
       "array(['2', '4+', '3', '1', '0'], dtype=object)"
      ]
     },
     "execution_count": 103,
     "metadata": {},
     "output_type": "execute_result"
    }
   ],
   "source": [
    "#Checking the Stay_In_Current_City_Years column\n",
    "bf['Stay_In_Current_City_Years'].unique()"
   ]
  },
  {
   "cell_type": "code",
   "execution_count": 104,
   "metadata": {},
   "outputs": [],
   "source": [
    "bf['Stay_In_Current_City_Years']=bf['Stay_In_Current_City_Years'].str.replace('+','')"
   ]
  },
  {
   "cell_type": "code",
   "execution_count": 105,
   "metadata": {},
   "outputs": [
    {
     "data": {
      "text/plain": [
       "array(['2', '4', '3', '1', '0'], dtype=object)"
      ]
     },
     "execution_count": 105,
     "metadata": {},
     "output_type": "execute_result"
    }
   ],
   "source": [
    "bf['Stay_In_Current_City_Years'].unique()"
   ]
  },
  {
   "cell_type": "markdown",
   "metadata": {},
   "source": [
    "### Checking the null values"
   ]
  },
  {
   "cell_type": "code",
   "execution_count": 106,
   "metadata": {},
   "outputs": [
    {
     "name": "stdout",
     "output_type": "stream",
     "text": [
      "<class 'pandas.core.frame.DataFrame'>\n",
      "Int64Index: 783667 entries, 0 to 233598\n",
      "Data columns (total 12 columns):\n",
      " #   Column                      Non-Null Count   Dtype  \n",
      "---  ------                      --------------   -----  \n",
      " 0   Product_ID                  783667 non-null  object \n",
      " 1   Gender                      783667 non-null  int64  \n",
      " 2   Age                         783667 non-null  int64  \n",
      " 3   Occupation                  783667 non-null  int64  \n",
      " 4   Stay_In_Current_City_Years  783667 non-null  object \n",
      " 5   Marital_Status              783667 non-null  int64  \n",
      " 6   Product_Category_1          783667 non-null  int64  \n",
      " 7   Product_Category_2          537685 non-null  float64\n",
      " 8   Product_Category_3          237858 non-null  float64\n",
      " 9   Purchase                    550068 non-null  float64\n",
      " 10  B                           783667 non-null  uint8  \n",
      " 11  C                           783667 non-null  uint8  \n",
      "dtypes: float64(3), int64(5), object(2), uint8(2)\n",
      "memory usage: 67.3+ MB\n"
     ]
    }
   ],
   "source": [
    "bf.info()"
   ]
  },
  {
   "cell_type": "code",
   "execution_count": 107,
   "metadata": {},
   "outputs": [
    {
     "data": {
      "text/plain": [
       "Product_ID                         0\n",
       "Gender                             0\n",
       "Age                                0\n",
       "Occupation                         0\n",
       "Stay_In_Current_City_Years         0\n",
       "Marital_Status                     0\n",
       "Product_Category_1                 0\n",
       "Product_Category_2            245982\n",
       "Product_Category_3            545809\n",
       "Purchase                      233599\n",
       "B                                  0\n",
       "C                                  0\n",
       "dtype: int64"
      ]
     },
     "execution_count": 107,
     "metadata": {},
     "output_type": "execute_result"
    }
   ],
   "source": [
    "bf.isnull().sum()"
   ]
  },
  {
   "cell_type": "code",
   "execution_count": 108,
   "metadata": {},
   "outputs": [
    {
     "data": {
      "text/html": [
       "<div>\n",
       "<style scoped>\n",
       "    .dataframe tbody tr th:only-of-type {\n",
       "        vertical-align: middle;\n",
       "    }\n",
       "\n",
       "    .dataframe tbody tr th {\n",
       "        vertical-align: top;\n",
       "    }\n",
       "\n",
       "    .dataframe thead th {\n",
       "        text-align: right;\n",
       "    }\n",
       "</style>\n",
       "<table border=\"1\" class=\"dataframe\">\n",
       "  <thead>\n",
       "    <tr style=\"text-align: right;\">\n",
       "      <th></th>\n",
       "      <th>Product_ID</th>\n",
       "      <th>Gender</th>\n",
       "      <th>Age</th>\n",
       "      <th>Occupation</th>\n",
       "      <th>Stay_In_Current_City_Years</th>\n",
       "      <th>Marital_Status</th>\n",
       "      <th>cat_1</th>\n",
       "      <th>cat_2</th>\n",
       "      <th>cat_3</th>\n",
       "      <th>Purchase</th>\n",
       "      <th>B</th>\n",
       "      <th>C</th>\n",
       "    </tr>\n",
       "  </thead>\n",
       "  <tbody>\n",
       "    <tr>\n",
       "      <th>0</th>\n",
       "      <td>P00069042</td>\n",
       "      <td>0</td>\n",
       "      <td>1</td>\n",
       "      <td>10</td>\n",
       "      <td>2</td>\n",
       "      <td>0</td>\n",
       "      <td>3</td>\n",
       "      <td>NaN</td>\n",
       "      <td>NaN</td>\n",
       "      <td>8370.0</td>\n",
       "      <td>0</td>\n",
       "      <td>0</td>\n",
       "    </tr>\n",
       "    <tr>\n",
       "      <th>1</th>\n",
       "      <td>P00248942</td>\n",
       "      <td>0</td>\n",
       "      <td>1</td>\n",
       "      <td>10</td>\n",
       "      <td>2</td>\n",
       "      <td>0</td>\n",
       "      <td>1</td>\n",
       "      <td>6.0</td>\n",
       "      <td>14.0</td>\n",
       "      <td>15200.0</td>\n",
       "      <td>0</td>\n",
       "      <td>0</td>\n",
       "    </tr>\n",
       "    <tr>\n",
       "      <th>2</th>\n",
       "      <td>P00087842</td>\n",
       "      <td>0</td>\n",
       "      <td>1</td>\n",
       "      <td>10</td>\n",
       "      <td>2</td>\n",
       "      <td>0</td>\n",
       "      <td>12</td>\n",
       "      <td>NaN</td>\n",
       "      <td>NaN</td>\n",
       "      <td>1422.0</td>\n",
       "      <td>0</td>\n",
       "      <td>0</td>\n",
       "    </tr>\n",
       "    <tr>\n",
       "      <th>3</th>\n",
       "      <td>P00085442</td>\n",
       "      <td>0</td>\n",
       "      <td>1</td>\n",
       "      <td>10</td>\n",
       "      <td>2</td>\n",
       "      <td>0</td>\n",
       "      <td>12</td>\n",
       "      <td>14.0</td>\n",
       "      <td>NaN</td>\n",
       "      <td>1057.0</td>\n",
       "      <td>0</td>\n",
       "      <td>0</td>\n",
       "    </tr>\n",
       "    <tr>\n",
       "      <th>4</th>\n",
       "      <td>P00285442</td>\n",
       "      <td>1</td>\n",
       "      <td>7</td>\n",
       "      <td>16</td>\n",
       "      <td>4</td>\n",
       "      <td>0</td>\n",
       "      <td>8</td>\n",
       "      <td>NaN</td>\n",
       "      <td>NaN</td>\n",
       "      <td>7969.0</td>\n",
       "      <td>0</td>\n",
       "      <td>1</td>\n",
       "    </tr>\n",
       "  </tbody>\n",
       "</table>\n",
       "</div>"
      ],
      "text/plain": [
       "  Product_ID  Gender  Age  Occupation Stay_In_Current_City_Years  \\\n",
       "0  P00069042       0    1          10                          2   \n",
       "1  P00248942       0    1          10                          2   \n",
       "2  P00087842       0    1          10                          2   \n",
       "3  P00085442       0    1          10                          2   \n",
       "4  P00285442       1    7          16                          4   \n",
       "\n",
       "   Marital_Status  cat_1  cat_2  cat_3  Purchase  B  C  \n",
       "0               0      3    NaN    NaN    8370.0  0  0  \n",
       "1               0      1    6.0   14.0   15200.0  0  0  \n",
       "2               0     12    NaN    NaN    1422.0  0  0  \n",
       "3               0     12   14.0    NaN    1057.0  0  0  \n",
       "4               0      8    NaN    NaN    7969.0  0  1  "
      ]
     },
     "execution_count": 108,
     "metadata": {},
     "output_type": "execute_result"
    }
   ],
   "source": [
    "#Renaming the 'Product_Category' columns\n",
    "bf.rename(columns={'Product_Category_1':'cat_1','Product_Category_2':'cat_2','Product_Category_3':'cat_3'},inplace=True)\n",
    "bf.head()"
   ]
  },
  {
   "cell_type": "markdown",
   "metadata": {},
   "source": [
    "##### Checking the unique values for each column"
   ]
  },
  {
   "cell_type": "code",
   "execution_count": 109,
   "metadata": {},
   "outputs": [
    {
     "data": {
      "text/plain": [
       "array([ 3,  1, 12,  8,  5,  4,  2,  6, 14, 11, 13, 15,  7, 16, 18, 10, 17,\n",
       "        9, 20, 19], dtype=int64)"
      ]
     },
     "execution_count": 109,
     "metadata": {},
     "output_type": "execute_result"
    }
   ],
   "source": [
    "bf['cat_1'].unique()"
   ]
  },
  {
   "cell_type": "code",
   "execution_count": 110,
   "metadata": {},
   "outputs": [
    {
     "data": {
      "text/plain": [
       "array([nan,  6., 14.,  2.,  8., 15., 16., 11.,  5.,  3.,  4., 12.,  9.,\n",
       "       10., 17., 13.,  7., 18.])"
      ]
     },
     "execution_count": 110,
     "metadata": {},
     "output_type": "execute_result"
    }
   ],
   "source": [
    "bf['cat_2'].unique()"
   ]
  },
  {
   "cell_type": "code",
   "execution_count": 111,
   "metadata": {},
   "outputs": [
    {
     "data": {
      "text/plain": [
       "array([nan, 14., 17.,  5.,  4., 16., 15.,  8.,  9., 13.,  6., 12.,  3.,\n",
       "       18., 11., 10.])"
      ]
     },
     "execution_count": 111,
     "metadata": {},
     "output_type": "execute_result"
    }
   ],
   "source": [
    "bf['cat_3'].unique()"
   ]
  },
  {
   "cell_type": "code",
   "execution_count": 112,
   "metadata": {},
   "outputs": [
    {
     "data": {
      "text/plain": [
       "8.0     91317\n",
       "14.0    78834\n",
       "2.0     70498\n",
       "16.0    61687\n",
       "15.0    54114\n",
       "5.0     37165\n",
       "4.0     36705\n",
       "6.0     23575\n",
       "11.0    20230\n",
       "17.0    19104\n",
       "13.0    15054\n",
       "9.0      8177\n",
       "12.0     7801\n",
       "10.0     4420\n",
       "3.0      4123\n",
       "18.0     4027\n",
       "7.0       854\n",
       "Name: cat_2, dtype: int64"
      ]
     },
     "execution_count": 112,
     "metadata": {},
     "output_type": "execute_result"
    }
   ],
   "source": [
    "bf['cat_2'].value_counts()"
   ]
  },
  {
   "cell_type": "code",
   "execution_count": 113,
   "metadata": {},
   "outputs": [
    {
     "data": {
      "text/plain": [
       "0    8.0\n",
       "dtype: float64"
      ]
     },
     "execution_count": 113,
     "metadata": {},
     "output_type": "execute_result"
    }
   ],
   "source": [
    "bf['cat_2'].mode()"
   ]
  },
  {
   "cell_type": "code",
   "execution_count": 114,
   "metadata": {},
   "outputs": [],
   "source": [
    "#Replacing the nans with mode in Cat columns\n",
    "bf['cat_2']=bf['cat_2'].fillna(bf['cat_2'].mode()[0])"
   ]
  },
  {
   "cell_type": "code",
   "execution_count": 115,
   "metadata": {},
   "outputs": [],
   "source": [
    "bf['cat_3']=bf['cat_3'].fillna(bf['cat_3'].mode()[0])"
   ]
  },
  {
   "cell_type": "code",
   "execution_count": 116,
   "metadata": {},
   "outputs": [
    {
     "data": {
      "text/plain": [
       "Product_ID                         0\n",
       "Gender                             0\n",
       "Age                                0\n",
       "Occupation                         0\n",
       "Stay_In_Current_City_Years         0\n",
       "Marital_Status                     0\n",
       "cat_1                              0\n",
       "cat_2                              0\n",
       "cat_3                              0\n",
       "Purchase                      233599\n",
       "B                                  0\n",
       "C                                  0\n",
       "dtype: int64"
      ]
     },
     "execution_count": 116,
     "metadata": {},
     "output_type": "execute_result"
    }
   ],
   "source": [
    "bf.isna().sum()"
   ]
  },
  {
   "cell_type": "code",
   "execution_count": 117,
   "metadata": {},
   "outputs": [
    {
     "data": {
      "text/plain": [
       "0     8370.0\n",
       "1    15200.0\n",
       "2     1422.0\n",
       "3     1057.0\n",
       "4     7969.0\n",
       "Name: Purchase, dtype: float64"
      ]
     },
     "execution_count": 117,
     "metadata": {},
     "output_type": "execute_result"
    }
   ],
   "source": [
    "bf['Purchase'].head()"
   ]
  },
  {
   "cell_type": "code",
   "execution_count": 118,
   "metadata": {},
   "outputs": [
    {
     "data": {
      "text/plain": [
       "9263.968712959126"
      ]
     },
     "execution_count": 118,
     "metadata": {},
     "output_type": "execute_result"
    }
   ],
   "source": [
    "bf['Purchase'].mean()"
   ]
  },
  {
   "cell_type": "code",
   "execution_count": 119,
   "metadata": {},
   "outputs": [],
   "source": [
    "#Replacing Purchase column null valueswith mean\n",
    "bf['Purchase']=bf['Purchase'].fillna(bf['Purchase'].mean())"
   ]
  },
  {
   "cell_type": "code",
   "execution_count": 120,
   "metadata": {},
   "outputs": [
    {
     "data": {
      "text/plain": [
       "Product_ID                    0\n",
       "Gender                        0\n",
       "Age                           0\n",
       "Occupation                    0\n",
       "Stay_In_Current_City_Years    0\n",
       "Marital_Status                0\n",
       "cat_1                         0\n",
       "cat_2                         0\n",
       "cat_3                         0\n",
       "Purchase                      0\n",
       "B                             0\n",
       "C                             0\n",
       "dtype: int64"
      ]
     },
     "execution_count": 120,
     "metadata": {},
     "output_type": "execute_result"
    }
   ],
   "source": [
    "bf.isna().sum()"
   ]
  },
  {
   "cell_type": "code",
   "execution_count": 121,
   "metadata": {},
   "outputs": [
    {
     "name": "stdout",
     "output_type": "stream",
     "text": [
      "<class 'pandas.core.frame.DataFrame'>\n",
      "Int64Index: 783667 entries, 0 to 233598\n",
      "Data columns (total 12 columns):\n",
      " #   Column                      Non-Null Count   Dtype  \n",
      "---  ------                      --------------   -----  \n",
      " 0   Product_ID                  783667 non-null  object \n",
      " 1   Gender                      783667 non-null  int64  \n",
      " 2   Age                         783667 non-null  int64  \n",
      " 3   Occupation                  783667 non-null  int64  \n",
      " 4   Stay_In_Current_City_Years  783667 non-null  object \n",
      " 5   Marital_Status              783667 non-null  int64  \n",
      " 6   cat_1                       783667 non-null  int64  \n",
      " 7   cat_2                       783667 non-null  float64\n",
      " 8   cat_3                       783667 non-null  float64\n",
      " 9   Purchase                    783667 non-null  float64\n",
      " 10  B                           783667 non-null  uint8  \n",
      " 11  C                           783667 non-null  uint8  \n",
      "dtypes: float64(3), int64(5), object(2), uint8(2)\n",
      "memory usage: 67.3+ MB\n"
     ]
    }
   ],
   "source": [
    "#Checking the columns once again\n",
    "bf.info()"
   ]
  },
  {
   "cell_type": "code",
   "execution_count": 122,
   "metadata": {},
   "outputs": [],
   "source": [
    "#Converting the data types\n",
    "bf['Stay_In_Current_City_Years']=bf['Stay_In_Current_City_Years'].astype('int')\n",
    "bf['B']=bf['B'].astype('int')\n",
    "bf['C']=bf['C'].astype('int')"
   ]
  },
  {
   "cell_type": "code",
   "execution_count": 123,
   "metadata": {},
   "outputs": [
    {
     "name": "stdout",
     "output_type": "stream",
     "text": [
      "<class 'pandas.core.frame.DataFrame'>\n",
      "Int64Index: 783667 entries, 0 to 233598\n",
      "Data columns (total 12 columns):\n",
      " #   Column                      Non-Null Count   Dtype  \n",
      "---  ------                      --------------   -----  \n",
      " 0   Product_ID                  783667 non-null  object \n",
      " 1   Gender                      783667 non-null  int64  \n",
      " 2   Age                         783667 non-null  int64  \n",
      " 3   Occupation                  783667 non-null  int64  \n",
      " 4   Stay_In_Current_City_Years  783667 non-null  int32  \n",
      " 5   Marital_Status              783667 non-null  int64  \n",
      " 6   cat_1                       783667 non-null  int64  \n",
      " 7   cat_2                       783667 non-null  float64\n",
      " 8   cat_3                       783667 non-null  float64\n",
      " 9   Purchase                    783667 non-null  float64\n",
      " 10  B                           783667 non-null  int32  \n",
      " 11  C                           783667 non-null  int32  \n",
      "dtypes: float64(3), int32(3), int64(5), object(1)\n",
      "memory usage: 68.8+ MB\n"
     ]
    }
   ],
   "source": [
    "bf.info()"
   ]
  },
  {
   "cell_type": "markdown",
   "metadata": {},
   "source": [
    "### Create a checkpoint"
   ]
  },
  {
   "cell_type": "code",
   "execution_count": 124,
   "metadata": {},
   "outputs": [],
   "source": [
    "bf_new=bf.copy()"
   ]
  },
  {
   "cell_type": "code",
   "execution_count": 125,
   "metadata": {},
   "outputs": [],
   "source": [
    "bf_new=bf_new.drop('Product_ID',axis=1)"
   ]
  },
  {
   "cell_type": "code",
   "execution_count": 126,
   "metadata": {},
   "outputs": [
    {
     "data": {
      "text/html": [
       "<div>\n",
       "<style scoped>\n",
       "    .dataframe tbody tr th:only-of-type {\n",
       "        vertical-align: middle;\n",
       "    }\n",
       "\n",
       "    .dataframe tbody tr th {\n",
       "        vertical-align: top;\n",
       "    }\n",
       "\n",
       "    .dataframe thead th {\n",
       "        text-align: right;\n",
       "    }\n",
       "</style>\n",
       "<table border=\"1\" class=\"dataframe\">\n",
       "  <thead>\n",
       "    <tr style=\"text-align: right;\">\n",
       "      <th></th>\n",
       "      <th>Gender</th>\n",
       "      <th>Age</th>\n",
       "      <th>Occupation</th>\n",
       "      <th>Stay_In_Current_City_Years</th>\n",
       "      <th>Marital_Status</th>\n",
       "      <th>cat_1</th>\n",
       "      <th>cat_2</th>\n",
       "      <th>cat_3</th>\n",
       "      <th>Purchase</th>\n",
       "      <th>B</th>\n",
       "      <th>C</th>\n",
       "    </tr>\n",
       "  </thead>\n",
       "  <tbody>\n",
       "    <tr>\n",
       "      <th>0</th>\n",
       "      <td>0</td>\n",
       "      <td>1</td>\n",
       "      <td>10</td>\n",
       "      <td>2</td>\n",
       "      <td>0</td>\n",
       "      <td>3</td>\n",
       "      <td>8.0</td>\n",
       "      <td>16.0</td>\n",
       "      <td>8370.0</td>\n",
       "      <td>0</td>\n",
       "      <td>0</td>\n",
       "    </tr>\n",
       "    <tr>\n",
       "      <th>1</th>\n",
       "      <td>0</td>\n",
       "      <td>1</td>\n",
       "      <td>10</td>\n",
       "      <td>2</td>\n",
       "      <td>0</td>\n",
       "      <td>1</td>\n",
       "      <td>6.0</td>\n",
       "      <td>14.0</td>\n",
       "      <td>15200.0</td>\n",
       "      <td>0</td>\n",
       "      <td>0</td>\n",
       "    </tr>\n",
       "    <tr>\n",
       "      <th>2</th>\n",
       "      <td>0</td>\n",
       "      <td>1</td>\n",
       "      <td>10</td>\n",
       "      <td>2</td>\n",
       "      <td>0</td>\n",
       "      <td>12</td>\n",
       "      <td>8.0</td>\n",
       "      <td>16.0</td>\n",
       "      <td>1422.0</td>\n",
       "      <td>0</td>\n",
       "      <td>0</td>\n",
       "    </tr>\n",
       "    <tr>\n",
       "      <th>3</th>\n",
       "      <td>0</td>\n",
       "      <td>1</td>\n",
       "      <td>10</td>\n",
       "      <td>2</td>\n",
       "      <td>0</td>\n",
       "      <td>12</td>\n",
       "      <td>14.0</td>\n",
       "      <td>16.0</td>\n",
       "      <td>1057.0</td>\n",
       "      <td>0</td>\n",
       "      <td>0</td>\n",
       "    </tr>\n",
       "    <tr>\n",
       "      <th>4</th>\n",
       "      <td>1</td>\n",
       "      <td>7</td>\n",
       "      <td>16</td>\n",
       "      <td>4</td>\n",
       "      <td>0</td>\n",
       "      <td>8</td>\n",
       "      <td>8.0</td>\n",
       "      <td>16.0</td>\n",
       "      <td>7969.0</td>\n",
       "      <td>0</td>\n",
       "      <td>1</td>\n",
       "    </tr>\n",
       "  </tbody>\n",
       "</table>\n",
       "</div>"
      ],
      "text/plain": [
       "   Gender  Age  Occupation  Stay_In_Current_City_Years  Marital_Status  cat_1  \\\n",
       "0       0    1          10                           2               0      3   \n",
       "1       0    1          10                           2               0      1   \n",
       "2       0    1          10                           2               0     12   \n",
       "3       0    1          10                           2               0     12   \n",
       "4       1    7          16                           4               0      8   \n",
       "\n",
       "   cat_2  cat_3  Purchase  B  C  \n",
       "0    8.0   16.0    8370.0  0  0  \n",
       "1    6.0   14.0   15200.0  0  0  \n",
       "2    8.0   16.0    1422.0  0  0  \n",
       "3   14.0   16.0    1057.0  0  0  \n",
       "4    8.0   16.0    7969.0  0  1  "
      ]
     },
     "execution_count": 126,
     "metadata": {},
     "output_type": "execute_result"
    }
   ],
   "source": [
    "bf_new.head()"
   ]
  },
  {
   "cell_type": "markdown",
   "metadata": {},
   "source": [
    "### Data Visualizations"
   ]
  },
  {
   "cell_type": "markdown",
   "metadata": {},
   "source": [
    "### Age vs Purchased"
   ]
  },
  {
   "cell_type": "code",
   "execution_count": 127,
   "metadata": {},
   "outputs": [
    {
     "data": {
      "text/plain": [
       "<matplotlib.axes._subplots.AxesSubplot at 0x1b25ef79ac0>"
      ]
     },
     "execution_count": 127,
     "metadata": {},
     "output_type": "execute_result"
    },
    {
     "data": {
      "image/png": "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\n",
      "text/plain": [
       "<Figure size 720x576 with 1 Axes>"
      ]
     },
     "metadata": {
      "needs_background": "light"
     },
     "output_type": "display_data"
    }
   ],
   "source": [
    "plt.figure(figsize=(10,8))\n",
    "sns.barplot('Age','Purchase',hue='Gender',data=bf_new)"
   ]
  },
  {
   "cell_type": "markdown",
   "metadata": {},
   "source": [
    "##### Purchase across all age groups are approx the same. Men have purchased more than women"
   ]
  },
  {
   "cell_type": "markdown",
   "metadata": {},
   "source": [
    "### Occupation vs purchased"
   ]
  },
  {
   "cell_type": "code",
   "execution_count": 128,
   "metadata": {},
   "outputs": [
    {
     "data": {
      "text/plain": [
       "<matplotlib.axes._subplots.AxesSubplot at 0x1b257e7e880>"
      ]
     },
     "execution_count": 128,
     "metadata": {},
     "output_type": "execute_result"
    },
    {
     "data": {
      "image/png": "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\n",
      "text/plain": [
       "<Figure size 1080x720 with 1 Axes>"
      ]
     },
     "metadata": {
      "needs_background": "light"
     },
     "output_type": "display_data"
    }
   ],
   "source": [
    "plt.figure(figsize=(15,10))\n",
    "sns.barplot('Occupation','Purchase',hue='Stay_In_Current_City_Years',data=bf_new)"
   ]
  },
  {
   "cell_type": "markdown",
   "metadata": {},
   "source": [
    "##### Purchasing across all occupation and any years stay is almost same. Not much deviation amongst them"
   ]
  },
  {
   "cell_type": "markdown",
   "metadata": {},
   "source": [
    "### cat1 vs Purchased"
   ]
  },
  {
   "cell_type": "code",
   "execution_count": 129,
   "metadata": {},
   "outputs": [
    {
     "data": {
      "text/plain": [
       "<matplotlib.axes._subplots.AxesSubplot at 0x1b21956c220>"
      ]
     },
     "execution_count": 129,
     "metadata": {},
     "output_type": "execute_result"
    },
    {
     "data": {
      "image/png": "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\n",
      "text/plain": [
       "<Figure size 1080x720 with 1 Axes>"
      ]
     },
     "metadata": {
      "needs_background": "light"
     },
     "output_type": "display_data"
    }
   ],
   "source": [
    "plt.figure(figsize=(15,10))\n",
    "sns.barplot('cat_1','Purchase',hue='Marital_Status',data=bf_new)"
   ]
  },
  {
   "cell_type": "markdown",
   "metadata": {},
   "source": [
    "### cat 2 Vs Purchase"
   ]
  },
  {
   "cell_type": "code",
   "execution_count": 130,
   "metadata": {},
   "outputs": [
    {
     "data": {
      "text/plain": [
       "<matplotlib.axes._subplots.AxesSubplot at 0x1b21961b700>"
      ]
     },
     "execution_count": 130,
     "metadata": {},
     "output_type": "execute_result"
    },
    {
     "data": {
      "image/png": "iVBORw0KGgoAAAANSUhEUgAAA4gAAAJNCAYAAABz4lt9AAAABHNCSVQICAgIfAhkiAAAAAlwSFlzAAALEgAACxIB0t1+/AAAADh0RVh0U29mdHdhcmUAbWF0cGxvdGxpYiB2ZXJzaW9uMy4yLjIsIGh0dHA6Ly9tYXRwbG90bGliLm9yZy+WH4yJAAAgAElEQVR4nOzdf7SfVX0n+vfHRIjSoEZAfgQGHKmKEBECl8qqS8cKSCnYVb0NnRYUWaxadGjnYgrtKlZ6WaXolKlX671MVcBbQa4dr9QWRtRSnVWUGyzIryIUQkggQqRgRqtwkn3/ODvM4XCScxLOOd/vOXm91vqu7/Pdz36e72cnhOR9nv3sp1prAQAAgBcMugAAAACGg4AIAABAEgERAACATkAEAAAgiYAIAABAt3DQBcy2PfbYox144IGDLgMAAGAgbrnllg2ttT0n2rfTBcQDDzwwq1atGnQZAAAAA1FVD25tnymmAAAAJBEQAQAA6AREAAAAkuyE9yACAABzy9NPP521a9fmJz/5yaBLmVMWLVqUpUuX5oUvfOGUjxEQAQCAobZ27dosXrw4Bx54YKpq0OXMCa21/OAHP8jatWtz0EEHTfk4U0wBAICh9pOf/CQvf/nLhcPtUFV5+ctfvt1XXQVEAABg6AmH229Hfs0ERAAAAJIIiAAAAHQCIgAAMOdUVX7jN37jmc8jIyPZc889c9JJJ23XeR5++OG8853vTJLceuut+du//dtJj7nxxhu3+T3f//73c9JJJ+X1r399DjnkkJx44olJktWrV+dzn/vcpOefar+ZICACAABzzm677ZY77rgj//qv/5okueGGG7Lffvtt1zlGRkay77775gtf+EKSqQfEyVxwwQV529velttuuy133XVXLr744iQCIgAAwIx5+9vfnr/5m79Jklx11VU59dRTn9l38803541vfGPe8IY35I1vfGPuueeeJMnll1+ed73rXfmlX/qlHHfccVm9enUOPfTQPPXUU7ngggvy+c9/Pocffng+//nPb/Uck3nkkUeydOnSZz4vW7YsSXLeeeflm9/8Zg4//PBceumlWb16dX7+538+RxxxRI444oj8wz/8w4T9Lr/88rz//e9/5nwnnXRSbrzxxmzatCnvfve7c+ihh+awww7LpZde+vx+QeM5iAAAwBy1YsWKXHjhhTnppJPy3e9+N2eccUa++c1vJkle85rX5Bvf+EYWLlyYr371q/m93/u9/NVf/VWS5Kabbsp3v/vdLFmyJKtXr06S7LLLLrnwwguzatWqfPzjH0+S/PCHP9zqObbl7LPPzq/+6q/m4x//eH7hF34h73nPe7Lvvvvm4osvzkc/+tF8+ctfTpL8+Mc/zg033JBFixbl3nvvzamnnppVq1Y9p9/ll18+4ffceuutWbduXe64444kyRNPPLHDv5ZbCIgAAMCctGzZsqxevTpXXXXVM/f5bfHkk0/m9NNPz7333puqytNPP/3Mvre97W1ZsmTJpOff1jm25fjjj8/999+f66+/Ptddd13e8IY3PBPixnr66afz/ve/P7feemsWLFiQ733ve1M6/xavfOUrc//99+cDH/hAfvEXfzHHHXfcdh0/EVNMAQCAOevkk0/Oueee+6zppUnyB3/wB3nLW96SO+64I3/913/9rAfG77bbblM697bOMZklS5bk137t1/LZz342Rx11VL7xjW88p8+ll16aV7ziFbntttuyatWqPPXUUxOea+HChdm8efMzn7fU8bKXvSy33XZb3vzmN+cTn/hEzjzzzCnXtzUCIgAAMGedccYZueCCC3LYYYc9q/3JJ598ZtGarU3RHG/x4sXZuHHj8zpHknz961/Pj3/84yTJxo0b88///M854IADJjz/Pvvskxe84AX57Gc/m02bNk1Yx4EHHphbb701mzdvzkMPPZSbb745SbJhw4Zs3rw5v/Irv5I/+qM/yne+850p17g1MxYQq+rTVfVoVT3nWmpVnVtVrar2GNN2flXdV1X3VNXxY9qPrKrb+76PVVX19l2r6vO9/dtVdeBMjQUAABhOS5cuzTnnnPOc9pUrV+b888/Pscce+0zwmsxb3vKW3HXXXc8sUrMj50iSW265JcuXL8+yZcvycz/3cznzzDNz1FFHZdmyZVm4cGFe//rX59JLL81v/dZv5YorrsgxxxyT733ve89c2Rzf79hjj81BBx2Uww47LOeee26OOOKIJMm6devy5je/OYcffnje/e5354//+I+nXOPWVGvteZ9kwhNXvSnJ/0hyZWvt0DHt+yf5iySvSXJka21DVR2S5KokRyfZN8lXk/xsa21TVd2c5Jwk30ryt0k+1lq7rqp+K8my1tpvVtWKJL/cWvvVyepavnx5W7Vq1fQOFgAAmDF33313Xvva1w66jDlpol+7qrqltbZ8ov4zdgWxtfaNJI9PsOvSJCuTjE2mpyS5urX209baA0nuS3J0Ve2TZPfW2k1tNMlemeQdY465om9/Iclbt1xdBAAAYPvN6iqmVXVyknWttdvGZbn9MnqFcIu1ve3pvj2+fcsxDyVJa22kqp5M8vIkGyb43rOSnJUkBxxwwLSMBQAA2Ll95jOfyZ/92Z89q+3YY4/NJz7xiQFV9PzNWkCsqhcn+f0kE629OtGVv7aN9m0d89zG1i5LclkyOsV00mIBAAAm8Z73vCfvec97Bl3GtJrNVUz/bZKDktxWVauTLE3ynaraO6NXBvcf03dpkod7+9IJ2jP2mKpamOQlmXhKKwAAAFMwawGxtXZ7a22v1tqBrbUDMxrwjmitrU9ybZIVfWXSg5IcnOTm1tojSTZW1TH9/sLTknypn/LaJKf37Xcm+XqbqRV3AAAAdgIzNsW0qq5K8uYke1TV2iQfaq19aqK+rbU7q+qaJHclGUlydmttyzqy70tyeZIXJbmuv5LkU0k+W1X3ZfTK4YoZGgoAzKqVK1dm/fr12XvvvXPJJZcMuhwAdiIzFhBba6dOsv/AcZ8vSnLRBP1WJTl0gvafJHnX86sSAKbHdIa69evXZ926ddNUGQBbc+QHr5zW893ykdOm1O/666/POeeck02bNuXMM8/MeeedN611PB+zeQ8iAMxbW0Ld+vXrB10KAENs06ZNOfvss3PdddflrrvuylVXXZW77rpr0GU9Q0AEAACYJTfffHNe9apX5ZWvfGV22WWXrFixIl/60pcmP3CWCIgAAACzZN26ddl////5AIelS5cO1W0FAiIAAMAsmejBC6MPbBgOAiIAAMAsWbp0aR566KFnPq9duzb77rvvACt6NgERAABglhx11FG5995788ADD+Spp57K1VdfnZNPPnnQZT1jxh5zAQAAMMym+liK6bRw4cJ8/OMfz/HHH59NmzbljDPOyOte97pZr2NrBEQAmMRUnpO1eMPGLEiyZsPGSft/cfFHtrl/5PElSRZm5PEHs+bCw7bZ94ALbp+0NgCGy4knnpgTTzxx0GVMyBRTAAAAkgiIAAAAdAIiAAAASQREAAAAOgERAACAJAIiAAAAncdcAAAAO6XJHiW0vaby6KEzzjgjX/7yl7PXXnvljjvumNbvnw6uIALANNi8y27ZtOvu2bzLboMuBYAh9u53vzvXX3/9oMvYKlcQAWAa/Ojg46btXHss2pxkpL8DMJ+86U1vyurVqwddxlYJiAAwZM5d9sSgSwBgJ2WKKQAAAEkERAAAADoBEQAAgCTuQQQAAHZSU3ksxXQ79dRTc+ONN2bDhg1ZunRpPvzhD+e9733vrNexNQIiAADALLnqqqsGXcI2mWIKAABAEgERAACATkAEAACGXmtt0CXMOTvyayYgAgAAQ23RokX5wQ9+ICRuh9ZafvCDH2TRokXbdZxFagAAgKG2dOnSrF27No899tigS5lTFi1alKVLl27XMQIiAAAw1F74whfmoIMOGnQZOwVTTAEAAEgiIAIAANAJiAAAACQREAEAAOgERAAAAJIIiAAAAHQCIgAAAEkERAAAADoBEQAAgCQCIgAAAJ2ACAAAQBIBEQAAgE5ABAAAIImACAAAQCcgAgAAkERABAAAoBMQAQAASCIgAgAA0AmIAAAAJBEQAQAA6AREAAAAkgiIAAAAdAIiAAAASQREAAAAOgERAACAJMnCQRews1q5cmXWr1+fvffeO5dccsmgywEAABAQp2q6A9369euzbt26aagMAABgegiIUyTQAQAA852AOAPWXHjYpH1GHl+SZGFGHn9wm/0PuOD2aawMAABg6wTEJEd+8MpJ+yzesDELkqzZsHHS/l9cPE2FAQAAzCIBcUD2WLQ5yUh/BwAAGDwBcUDOXfbEoEsAAAB4FgFxijbvstuz3gEAAOYbAXGKfnTwcYMuAQAAYEa9YNAFAAAAMBwERAAAAJIIiAAAAHQzFhCr6tNV9WhV3TGm7SNV9U9V9d2q+mJVvXTMvvOr6r6quqeqjh/TfmRV3d73fayqqrfvWlWf7+3frqoDZ2osAAAAO4OZvIJ4eZITxrXdkOTQ1tqyJN9Lcn6SVNUhSVYkeV0/5s+rakE/5pNJzkpycH9tOed7k/xLa+1VSS5N8iczNhIAAICdwIwFxNbaN5I8Pq7tK621kf7xW0mW9u1TklzdWvtpa+2BJPclObqq9kmye2vtptZaS3JlkneMOeaKvv2FJG/dcnURAACA7TfIexDPSHJd394vyUNj9q3tbfv17fHtzzqmh84nk7x8oi+qqrOqalVVrXrsscembQAAAADzyUACYlX9fpKRJH+5pWmCbm0b7ds65rmNrV3WWlveWlu+5557bm+5AAAAO4VZD4hVdXqSk5L8+z5tNBm9Mrj/mG5Lkzzc25dO0P6sY6pqYZKXZNyUVgAAAKZuVgNiVZ2Q5HeTnNxa+/GYXdcmWdFXJj0oo4vR3NxaeyTJxqo6pt9feFqSL4055vS+/c4kXx8TOAEAANhOC2fqxFV1VZI3J9mjqtYm+VBGVy3dNckNfT2Zb7XWfrO1dmdVXZPkroxOPT27tbapn+p9GV0R9UUZvWdxy32Ln0ry2aq6L6NXDlfM1FgAAAB2BjMWEFtrp07Q/Klt9L8oyUUTtK9KcugE7T9J8q7nUyMAAAD/0yBXMQUAAGCICIgAAAAkERABAADoBEQAAACSCIgAAAB0AiIAAABJBEQAAAA6AREAAIAkAiIAAACdgAgAAEASAREAAIBOQAQAACCJgAgAAEAnIAIAAJBEQAQAAKATEAEAAEgiIAIAANAJiAAAACQREAEAAOgERAAAAJIIiAAAAHQCIgAAAEkERAAAADoBEQAAgCQCIgAAAJ2ACAAAQBIBEQAAgE5ABAAAIImACAAAQCcgAgAAkERABAAAoBMQAQAASJIsHHQBACtXrsz69euz995755JLLhl0OQAAOy0BkR3mH/VMl/Xr12fdunWDLgMAYKcnILLD/KMeAADmFwER2CGuIAMAzD8CIrBDtucK8poLD9vm/pHHlyRZmJHHH5y07wEX3D7VEgEA2E5WMQUAACCJK4jABI784JWT9lm8YWMWJFmzYeOk/b+4eJoKAwBgRrmCCAAAQBJXENmKye4DS9w3BgAA842AuBOx6iTDao9Fm5OM9HcAAAZFQNyJeG4h02nzLrs96/35OHfZE8/7HAAAPH8CIrBDfnTwcYMuAQCAaWaRGgAAAJIIiAAAAHQCIgAAAEncgzhvDOLB5laeBACA+UVAZIdZeRIAAOYXU0wBAABIIiACAADQCYgAAAAkERABAADoLFKzE9m8y27PegcAABhLQNyJ/Ojg4wZdAgAAMMRMMQUAACCJgAgAAEAnIAIAAJBEQAQAAKATEAEAAEgiIAIAANAJiAAAACQREAEAAOgWDroAAAAYRitXrsz69euz995755JLLhl0OTArBEQAAJjA+vXrs27dukGXAbNqxqaYVtWnq+rRqrpjTNuSqrqhqu7t7y8bs+/8qrqvqu6pquPHtB9ZVbf3fR+rqurtu1bV53v7t6vqwJkaC/PXypUrc9ppp2XlypWDLgUAYNr5tw7bayavIF6e5ONJrhzTdl6Sr7XWLq6q8/rn362qQ5KsSPK6JPsm+WpV/WxrbVOSTyY5K8m3kvxtkhOSXJfkvUn+pbX2qqpakeRPkvzqDI6HechPBgFg53TkB6+ctM/iDRuzIMmaDRsn7X/LR06bpsqml3/rsL1mLCC21r4xwVW9U5K8uW9fkeTGJL/b269urf00yQNVdV+So6tqdZLdW2s3JUlVXZnkHRkNiKck+cN+ri8k+XhVVWutzcyIAABgx82HexrnwxjYttm+B/EVrbVHkqS19khV7dXb98voFcIt1va2p/v2+PYtxzzUzzVSVU8meXmSDTNXPnPJmgsPm7TPyONLkizMyOMPTtr/gAtun6bKAIC5YPMuuz3r/fma7qt5g7gK6ork/Dcsi9TUBG1tG+3bOua5J686K6PTVHPAAQfsSH0AAOxkfnTwcYMuAWbdbAfE71fVPv3q4T5JHu3ta5PsP6bf0iQP9/alE7SPPWZtVS1M8pIkj0/0pa21y5JcliTLly83BZVn7LFoc5KR/g4AsGOmc+bSoGYtmX1FMvsB8dokpye5uL9/aUz756rqTzO6SM3BSW5urW2qqo1VdUySbyc5Lcn/Me5cNyV5Z5Kvu/9w/pvuee/nLntiGqoCABhO0z1NlvlvxgJiVV2V0QVp9qiqtUk+lNFgeE1VvTfJmiTvSpLW2p1VdU2Su5KMJDm7r2CaJO/L6IqoL8ro4jTX9fZPJflsX9Dm8Yyugso8Z947AMDUmSbL9prJVUxP3cqut26l/0VJLpqgfVWSQydo/0l6wGR+mO4brb+4eJoKAwCYBm5tYS4YlkVqAABgXpsPt7YIufOfgMicYh49AGwfz61jOs2HkMu2CYjMKebRA8D2cf8+sD1eMOgCAAAAGA4CIgAAAEkERAAAADr3IAIAzFFrLjxs0j4jjy9JsjAjjz84af8DLrh9mioD5ipXEAEAAEgiIAIAANAJiAAAACRxDyIAwFDxYHtgkAREAIAhMt0Ptt9j0eYkI/0dmA9m8gdJAiIAwDx27rInBl0CMM2m+wdJYwmIAAAAM2yuTB8XEAEAgKE13cFqUEFtJq/6TScBEQBgFh35wSu3uX/xho1ZkGTNho2T9v3i4mksDIbUdAeruRLUBsVjLgAAAEgiIAIAANCZYgoAAAzM9E67/sik3zfy+JIkCzPy+INZc+Fh2+x7wAW3T3q++UZABAAYIpt32e1Z78DOZbLQmsxsyBUQAQCGyI8OPm7QJQDbabIrm8nUr4QOevEpARHmuLnyTB0AgB3hqvrsEhBhjrNUMwAwn033VfU9Fm1OMtLfGU9ABAAAdhrnLnti0CUMNQERAJgRpsADzD0CIgyxQa9iBfB8mAIPMPe8YNAFAAAAMBxcQYQBMO0KAIAdNZML7QiIMACmXQHDaHt+eGUKPMD2mc7HdczkQjsCIsxxlmoGposfXgHMnOl+XMdMERBhmh35wSsn7bN4w8YsSLJmw8Zt9v/i4sm/z1LNAABMF4vUAAAAkMQVRADYKUzn7IZkajMcAJh7BEQAYEa4Rxpg7hEQYQCmcxUrgGHlHmmAuUdAhAGYK6tYATsXP7wCQEAEAJL44RUAVjEFAACgExABAABIIiACAADQCYgAAAAkERABAADoBEQAAACSCIgAAAB0AiIAAABJBEQAAAC6hYMuAIDhsXLlyqxfvz577713LrnkkkGXAwDMMgERYA6b7kC3fv36rFu3bhoqAwDmIgERYA7bnkC35sLDJu0z8viSJAsz8viDk/Y/4ILbp/S9AMDcISACDKkjP3jlpH0Wb9iYBUnWbNg4af8vLp6mwgCAeUtABJjDNu+y27Pen689Fm1OMtLfAYCdjYAIMIf96ODjpvV85y57YlrPBwDMLR5zAQAAQBIBEQAAgE5ABAAAIImACAAAQCcgAgAAkERABAAAoBMQAQAASCIgAgAA0AmIAAAAJBEQAQAA6AREAAAAkgiIAAAAdAIiAAAASQREAAAAuoEExKr6naq6s6ruqKqrqmpRVS2pqhuq6t7+/rIx/c+vqvuq6p6qOn5M+5FVdXvf97GqqkGMBwAAYD6Y9YBYVfsl+Q9JlrfWDk2yIMmKJOcl+Vpr7eAkX+ufU1WH9P2vS3JCkj+vqgX9dJ9MclaSg/vrhFkcCgAAwLwyqCmmC5O8qKoWJnlxkoeTnJLkir7/iiTv6NunJLm6tfbT1toDSe5LcnRV7ZNk99baTa21luTKMccAsJNauXJlTjvttKxcuXLQpQDAnDPrAbG1ti7JR5OsSfJIkidba19J8orW2iO9zyNJ9uqH7JfkoTGnWNvb9uvb49ufo6rOqqpVVbXqsccem87hADBk1q9fn3Xr1mX9+vWDLgUA5pxBTDF9WUavCh6UZN8ku1XVr2/rkAna2jban9vY2mWtteWtteV77rnn9pYMwAxyxQ8AhsfCAXznLyR5oLX2WJJU1X9N8sYk36+qfVprj/Tpo4/2/muT7D/m+KUZnZK6tm+PbwdgDtlyxQ8AGLxB3IO4JskxVfXivuroW5PcneTaJKf3Pqcn+VLfvjbJiqrataoOyuhiNDf3aagbq+qYfp7TxhwDAADAdpr1K4ittW9X1ReSfCfJSJJ/THJZkp9Jck1VvTejIfJdvf+dVXVNkrt6/7Nba5v66d6X5PIkL0pyXX8BME+tufCwSfuMPL4kycKMPP7gpP0PuOD2aaoMAOaHQUwxTWvtQ0k+NK75pxm9mjhR/4uSXDRB+6okh057gQBMmyM/eOU29y/esDELkqzZsHHSvl9cPI2FAQDPMajHXAAAADBkBnIFEQAApmrlypVZv3599t5771xyySWDLgfmtSkFxKr62SSfzOizCg+tqmVJTm6t/e8zWh0AAHPSdIY6qx3D7JnqFcT/kuSDSf6vJGmtfbeqPpdEQATgedm8y27Pen++9li0OclIf4fnx5WrHbc9oW6yBaUsPgWzZ6oB8cWttZtHnybxjJEZqAdg1viH33D40cHHTev5zl32xLSej7lluv9cu3I1sckWlEosQAVz1VQD4oaq+rdJWpJU1TuTPDJjVQHMAv/wg/nHn+v5ycwAmD1TDYhnZ/RZha+pqnVJHkjy6zNWFQAAc9p0Th83MwBmz5QCYmvt/iS/UFW7JXlBa23jzJYFMPeYsgpzy2T3siXufXs+pnv6ODA7prqK6TlJPpNkY5L/UlVHJDmvtfaVmSwOYC4xtQ1mlvveAGbeC6bY74zW2g+THJdkryTvSXLxjFUFAADArJvqPYhbli89MclnWmu31bglTQGGyXRfabjlI6dNU2UAAMNrqgHxlqr6SpKDkpxfVYuTWEYKAJjXrJ4J7GymGhDfm+TwJPe31n5cVS/P6DRTAIChMZ0rZyZWzwR2PlNdxXRzVT2Q5GeratEM1wQAsEOsnAnw/Ex1FdMzk5yTZGmSW5Mck+SmJP9u5koDAABgNk11iuk5SY5K8q3W2luq6jVJPjxzZQEMF89LAwB2BlN9zMVPWms/SZKq2rW19k9JXj1zZQEAADDbpnoFcW1VvTTJ/5vkhqr6lyQPz1xZADNvuhezAACY66a6SM0v980/rKq/S/KSJNfPWFUAs8BiFgAAzzbVK4ipqgVJXpHkgd60d5I1M1EUAAAAs2+qq5h+IMmHknw/yZYnxbYky2aoLgAAAGbZ9qxi+urW2g9mshgAAAAGZ6qrmD6U5MmZLAQAAIDB2uYVxKr6j33z/iQ3VtXfJPnplv2ttT+dwdoAAACYRZNNMV3c39f01y79BcA4eyzanGSkvwMAzD3bDIittQ/PViEAc925y54YdAkAAM/LlO5BrKobquqlYz6/rKr+28yVBQAAwGyb6iI1e7bWnvnReGvtX5LsNTMlAQAAMAhTDYibquqALR+q6t9k9DmIAAAAzBNTfQ7i7yX571X19/3zm5KcNTMlAQAAMAiTBsSqekGSlyQ5IskxSSrJ77TWNsxwbQAAAMyiSQNia21zVb2/tXZNki/PQk0AAAAMwFTvQbyhqs6tqv2rasmW14xWBgAAwKya6j2IZ/T3s8e0tSSvnN5yAAAAGJQpBcTW2kEzXQgAAACDNaWAWFWnTdTeWrtyessBAABgUKY6xfSoMduLkrw1yXeSCIgAAADzxFSnmH5g7OeqekmSz85IRQAAAAzEVFcxHe/HSQ6ezkIAAAAYrKneg/jXGV21NBkNlYckuWamigIAAGD2TfUexI+O2R5J8mBrbe0M1AMAAMCAbDMgVtWiJL+Z5FVJbk/yqdbayGwUBgAAwOya7B7EK5Isz2g4fHuS/zTjFQEAADAQk00xPaS1dliSVNWnktw88yUBAAAwCJNdQXx6y4appQAAAPPbZFcQX19VP+zbleRF/XMlaa213We0OgAAAGbNNgNia23BbBUCAADAYE02xRQAAICdhIAIAABAEgERAACATkAEAAAgiYAIAABAJyACAACQREAEAACgExABAABIIiACAADQCYgAAAAkERABAADoBEQAAACSCIgAAAB0AiIAAABJBEQAAAA6AREAAIAkAiIAAACdgAgAAEASAREAAIBuIAGxql5aVV+oqn+qqrur6ueqaklV3VBV9/b3l43pf35V3VdV91TV8WPaj6yq2/u+j1VVDWI8AAAA88GgriD+WZLrW2uvSfL6JHcnOS/J11prByf5Wv+cqjokyYokr0tyQpI/r6oF/TyfTHJWkoP764TZHAQAAMB8MusBsap2T/KmJJ9KktbaU621J5KckuSK3u2KJO/o26ckubq19tPW2gNJ7ktydFXtk2T31tpNrbWW5MoxxwAAALCdBnEF8ZVJHkvymar6x6r6i6raLckrWmuPJEl/36v33y/JQ2OOX9vb9uvb49ufo6rOqqpVVbXqsccem97RAAAAzBODCIgLkxyR5JOttTck+VH6dNKtmOi+wraN9uc2tnZZa215a235nnvuub31AgAA7BQGERDXJlnbWvt2//yFjAbG7/dpo+nvj47pv/+Y45cmebi3L52gHQAAgB0w6wGxtbY+yUNV9ere9NYkdyW5Nsnpve30JF/q29cmWVFVu+BQNIYAABTGSURBVFbVQRldjObmPg11Y1Ud01cvPW3MMQAAAGynhQP63g8k+cuq2iXJ/Unek9Gwek1VvTfJmiTvSpLW2p1VdU1GQ+RIkrNba5v6ed6X5PIkL0pyXX8BAACwAwYSEFtrtyZZPsGut26l/0VJLpqgfVWSQ6e3OgAAgJ3ToJ6DCAAAwJAREAEAAEgiIAIAANAJiAAAACQREAEAAOgERAAAAJIIiAAAAHQCIgAAAEkERAAAADoBEQAAgCQCIgAAAJ2ACAAAQBIBEQAAgE5ABAAAIImACAAAQCcgAgAAkERABAAAoBMQAQAASCIgAgAA0AmIAAAAJBEQAQAA6AREAAAAkgiIAAAAdAIiAAAASQREAAAAOgERAACAJAIiAAAAnYAIAABAEgERAACATkAEAAAgiYAIAABAJyACAACQREAEAACgExABAABIIiACAADQCYgAAAAkERABAADoBEQAAACSCIgAAAB0AiIAAABJBEQAAAA6AREAAIAkAiIAAACdgAgAAEASAREAAIBOQAQAACCJgAgAAEAnIAIAAJBEQAQAAKATEAEAAEgiIAIAANAJiAAAACQREAEAAOgERAAAAJIIiAAAAHQCIgAAAEkERAAAADoBEQAAgCQCIgAAAJ2ACAAAQBIBEQAAgE5ABAAAIImACAAAQCcgAgAAkERABAAAoBtYQKyqBVX1j1X15f55SVXdUFX39veXjel7flXdV1X3VNXxY9qPrKrb+76PVVUNYiwAAADzwSCvIJ6T5O4xn89L8rXW2sFJvtY/p6oOSbIiyeuSnJDkz6tqQT/mk0nOSnJwf50wO6UDAADMPwMJiFW1NMkvJvmLMc2nJLmib1+R5B1j2q9urf20tfZAkvuSHF1V+yTZvbV2U2utJblyzDEAAABsp0FdQfzPSVYm2Tym7RWttUeSpL/v1dv3S/LQmH5re9t+fXt8OwAAADtg1gNiVZ2U5NHW2i1TPWSCtraN9om+86yqWlVVqx577LEpfi0AAMDOZRBXEI9NcnJVrU5ydZJ/V1X/d5Lv92mj6e+P9v5rk+w/5vilSR7u7UsnaH+O1tplrbXlrbXle+6553SOBQAAYN6Y9YDYWju/tba0tXZgRhef+Xpr7deTXJvk9N7t9CRf6tvXJllRVbtW1UEZXYzm5j4NdWNVHdNXLz1tzDEAAABsp4WDLmCMi5NcU1XvTbImybuSpLV2Z1Vdk+SuJCNJzm6tberHvC/J5UlelOS6/gIAAGAHDDQgttZuTHJj3/5Bkrdupd9FSS6aoH1VkkNnrkIAAICdxyCfgwgAAMAQERABAABIIiACAADQCYgAAAAkERABAADoBEQAAACSCIgAAAB0AiIAAABJBEQAAAA6AREAAIAkAiIAAACdgAgAAEASAREAAIBOQAQAACCJgAgAAEAnIAIAAJBEQAQAAKATEAEAAEgiIAIAANAJiAAAACQREAEAAOgERAAAAJIIiAAAAHQCIgAAAEkERAAAADoBEQAAgCQCIgAAAJ2ACAAAQBIBEQAAgE5ABAAAIImACAAAQCcgAgAAkERABAAAoBMQAQAASCIgAgAA0AmIAAAAJBEQAQAA6AREAAAAkgiIAAAAdAIiAAAASQREAAAAOgERAACAJAIiAAAAnYAIAABAEgERAACATkAEAAAgiYAIAABAJyACAACQREAEAACgExABAABIIiACAADQCYgAAAAkERABAADoBEQAAACSCIgAAAB0AiIAAABJBEQAAAA6AREAAIAkAiIAAACdgAgAAEASAREAAIBOQAQAACCJgAgAAEAnIAIAAJBEQAQAAKATEAEAAEgygIBYVftX1d9V1d1VdWdVndPbl1TVDVV1b39/2Zhjzq+q+6rqnqo6fkz7kVV1e9/3saqq2R4PAADAfDGIK4gjSf631tprkxyT5OyqOiTJeUm+1lo7OMnX+uf0fSuSvC7JCUn+vKoW9HN9MslZSQ7urxNmcyAAAADzyawHxNbaI6217/TtjUnuTrJfklOSXNG7XZHkHX37lCRXt9Z+2lp7IMl9SY6uqn2S7N5au6m11pJcOeYYAAAAttNA70GsqgOTvCHJt5O8orX2SDIaIpPs1bvtl+ShMYet7W379e3x7RN9z1lVtaqqVj322GPTOQQAAIB5Y2ABsap+JslfJfnt1toPt9V1gra2jfbnNrZ2WWtteWtt+Z577rn9xQIAAOwEBhIQq+qFGQ2Hf9la+6+9+ft92mj6+6O9fW2S/cccvjTJw7196QTtAAAA7IBBrGJaST6V5O7W2p+O2XVtktP79ulJvjSmfUVV7VpVB2V0MZqb+zTUjVV1TD/naWOOAQAAYDstHMB3HpvkN5LcXlW39rbfS3Jxkmuq6r1J1iR5V5K01u6sqmuS3JXRFVDPbq1t6se9L8nlSV6U5Lr+AgAAYAfMekBsrf33THz/YJK8dSvHXJTkognaVyU5dPqqAwAA2HkNdBVTAAAAhoeACAAAQBIBEQAAgE5ABAAAIImACAAAQCcgAgAAkERABAAAoBMQAQAASCIgAgAA0AmIAAAAJBEQAQAA6AREAAAAkgiIAAAAdAIiAAAASQREAAAAOgERAACAJAIiAAAAnYAIAABAEgERAACATkAEAAAgiYAIAABAJyACAACQREAEAACgExABAABIIiACAADQCYgAAAAkERABAADoBEQAAACSCIgAAAB0AiIAAABJBEQAAAA6AREAAIAkAiIAAACdgAgAAEASAREAAIBOQAQAACCJgAgAAEAnIAIAAJBEQAQAAKATEAEAAEgiIAIAANAJiAAAACQREAEAAOgERAAAAJIIiAAAAHQCIgAAAEkERAAAADoBEQAAgCQCIgAAAJ2ACAAAQBIBEQAAgE5ABAAAIImACAAAQCcgAgAAkERABAAAoBMQAQAASCIgAgAA0AmIAAAAJBEQAQAA6AREAAAAkgiIAAAAdAIiAAAASQREAAAAOgERAACAJAIiAAAAnYAIAABAknkQEKvqhKq6p6ruq6rzBl0PAADAXDWnA2JVLUjyiSRvT3JIklOr6pDBVgUAADA3zemAmOToJPe11u5vrT2V5Ookpwy4JgAAgDmpWmuDrmGHVdU7k5zQWjuzf/6NJP9La+394/qdleSs/vHVSe6Z4dL2SLJhhr9jphnDcJgPY0jmxziMYTjMhzEk82McxjAc5sMYkvkxDmMYDsYwNf+mtbbnRDsWzvAXz7SaoO05ibe1dlmSy2a+nFFVtaq1tny2vm8mGMNwmA9jSObHOIxhOMyHMSTzYxzGMBzmwxiS+TEOYxgOxvD8zfUppmuT7D/m89IkDw+oFgAAgDltrgfE/y/JwVV1UFXtkmRFkmsHXBMAAMCcNKenmLbWRqrq/Un+W5IFST7dWrtzwGUlsziddQYZw3CYD2NI5sc4jGE4zIcxJPNjHMYwHObDGJL5MQ5jGA7G8DzN6UVqAAAAmD5zfYopAAAA00RABAAAIImAuEOqav+q+ruquruq7qyqcyboU1X1saq6r6q+W1VHDKLWbamqRVV1c1Xd1sfx4Qn6DP04kqSqFlTVP1bVlyfYN/RjqKrVVXV7Vd1aVasm2D8XxvDSqvpCVf1T/7Pxc+P2z4UxvLr/Hmx5/bCqfntcn7kwjt/pf6bvqKqrqmrRuP1zYQzn9PrvHP970PcP5Riq6tNV9WhV3TGmbUlV3VBV9/b3l23l2BOq6p4+pvNmr+rn1DHRGN7Vfy82V9VWl14f8jF8pP//6btV9cWqeulWjh3mMfxRr//WqvpKVe27lWOHdgxj9p1bVa2q9tjKsUMxhl7LRL8Xf1hV68b8fXHiVo4dinFs7feiqj7Q67uzqi7ZyrFDO4aq+vyY34PVVXXrVo4d5jEcXlXf6mNYVVVHb+XY2RtDa81rO19J9klyRN9enOR7SQ4Z1+fEJNdl9FmNxyT59qDrnmAcleRn+vYLk3w7yTFzbRy9zv+Y5HNJvjzBvqEfQ5LVSfbYxv65MIYrkpzZt3dJ8tK5NoZx9S5Isj6jD5KdM+NIsl+SB5K8qH++Jsm759gYDk1yR5IXZ3Qxta8mOXgujCHJm5IckeSOMW2XJDmvb5+X5E+28t/bPyd5Zf/zc9v4v1cGPIbXJnl1khuTLN/KccM+huOSLOzbfzJHfx92H7P9H5L8n3NtDL19/4wuMPhgJvi7b5jGsI3fiz9Mcu4kxw3NOLYyhrf0/7/u2j/vNdfGMG7/f0pywVwbQ5KvJHl73z4xyY2DHoMriDugtfZIa+07fXtjkrsz+o+ysU5JcmUb9a0kL62qfWa51G3qtf2P/vGF/TV+1aKhH0dVLU3yi0n+Yitdhn4MUzDUY6iq3TP6P71PJUlr7anW2hPjug31GCbw1iT/3Fp7cFz7XBjHwiQvqqqFGQ1Z458PO+xjeG2Sb7XWftxaG0ny90l+eVyfoRxDa+0bSR4f13xKRn+Akv7+jgkOPTrJfa21+1trTyW5uh836yYaQ2vt7tbaPZMcOuxj+Er/7ylJvpXRZyePN+xj+OGYj7vluX9nJ0M+hu7SJCszcf3JEI0h2eY4JjM049jKGN6X5OLW2k97n0cnOHTYx5BkdFZJkv81yVUT7B72MbQku/ftl2TiZ7rP6hgExOepqg5M8oaMXn0ba78kD435vDbPDZEDV6NTM29N8miSG1prc3Ec/zmjf9Fs3sr+uTCGluQrVXVLVZ01wf5hH8MrkzyW5DM1OtX3L6pqt3F9hn0M463IxH/RDPU4Wmvrknw0yZokjyR5srX2lXHdhnoMGb16+KaqenlVvTijP1Hdf1yfYR/DWK9orT2SjP6AMcleE/SZS+PZmrk0hjMyegV6vKEfQ1VdVFUPJfn3SS6YoMtQj6GqTk6yrrV22za6DfUYxnh/n/L76a1MHR/2cfxskp+vqm9X1d9X1VET9Bn2MWzx80m+31q7d4J9wz6G307ykf7n+qNJzp+gz6yOQUB8HqrqZ5L8VZLfHvdTvWR02tN4Q/dMkdbaptba4Rn9SerRVXXouC5DPY6qOinJo621W7bVbYK2oRlDd2xr7Ygkb09ydlW9adz+YR/DwoxOmfhka+0NSX6U0al0Yw37GJ5RVbskOTnJ/zPR7gnahmYc/R8ppyQ5KMm+SXarql8f322CQ4dmDK21uzM6BfCGJNdndCrNyLhuQz2GHTAfxjMnxlBVv5/R/57+8v9v5+5C7KrOOIw/L0StFhGVimljjYiWIglqLYgpdZh4EYMMqCgWi7mwoIK98Asp04sK9qb046JKKyIU/IDEmPgBgmBE8EZtm5jRai+UBJ2aRBMRKoJIfb1Ya3C7c84YTWZmbfr84HBO9l5zsv6cmbP3u/baa9TuEduaypCZ05l5GqX/N49o0myGOuAzzejC9ktNR2xrIkPHX4AzgXMpg3F/GNGm9RzLgBMp0/TvADbVK3FdrWeY8zNGD+pC+xluAm6pf9e3UGdj9SxqBgvEbygijqIUhw9n5pYRTWb58oj3CkZfMm5CnQ74PLCut6v1HGuAqYjYTbncPhkRD/XatJ6BzHy3Pr8HbKVMJehqPcMsMNu5Ar2ZUjD227ScoetSYHtm7huxr/UclwC7MvP9zPwU2AJc1GvTegYy84HMPD8zf0qZjtMfFW4+Q8e+uemv9XnUNK4h5Rmn+QwRsQG4DLg2M0edXDWfoeMR4MoR21vOcCZl8GpnPW6vALZHxKm9di1nACAz99VB9s+A+zn4uA3t55gFttSp+i9TZmL1Fw1qPQP1doorgI1jmrSeYQPlWA1lYHrJf5csEL+BOrryAPBGZv5xTLMngeuiuJAyzWvPonXyEETEd6Ku4hYRx1JOLP/da9Z0jsz8VWauyMyVlCmBz2Vm/2pJ0xki4tsRcfzca8pCCv0V35rOkJl7gXci4gd101rg9V6zpjP0zDcS2XqOt4ELI+K4+l21lnKfdFfrGYiIU+rz9ykH/v7n0XyGjicpJwDU5ydGtPk7cFZEnFGvYF9Tf25Ims4QEeuAO4GpzPx4TLPWM5zV+ecUBx+zoeEMmflqZp6SmSvrcXuWsujf3l7TZjPM6d3zfDkHH7eh/RyPA5MAEXE2ZfGT/b02rWeAev6ambNj9ree4V3g4vp6koMHRGGxM+QSrOAz9AfwE8pl3RnglfpYD9wI3FjbBHAvZcWhVxmz6tsS51gN7Kg5XqOu/DS0HJ08E9RVTIeUgXL/3s76+BcwPbQMtY/nAv+ov0+PU6atDCpD7edxwAHghM62QeUA7qKcOL4GPAgcM8AML1AGGXYCa4fyOVAK2T3Ap5ST3+uBk4FtlIP+NuCk2va7wNOdn11PWRX7rbnvgYYyXF5ffwLsA54ZYIY3KffwzB23/zrADI/Vv+sZ4Cnge0PL0Nu/m7qKaasZ5vksHqzfPTOUE/XlLecYk+Fo4KH6O7UdmBxahrr9b9RjQ6ftYDJQ6op/Uo53LwE/WuoMUf9DSZIkSdL/OaeYSpIkSZIAC0RJkiRJUmWBKEmSJEkCLBAlSZIkSZUFoiRJkiQJsECUJEmSJFUWiJIkLZKImIiIi76iza0R8XpEzETEtog4fbH6J0mSBaIkSYtnApi3QAR2ABdk5mpgM/C7he6UJElzIjOXug+SJA1aRFwH3A4kMANsAn4NHA0cAK4FjgVeBP4HvA/8MjNf+Ir3PQ+4JzPXLFzvJUn6ggWiJEmHISLOAbYAazJzf0ScRCkUP8zMjIhfAD/MzNsi4jfAR5n5+0N873uAvZl590L1X5KkrmVL3QFJkgZuEticmfsBMvODiFgFbIyI5ZSriLu+7ptGxM+BC4CLj2RnJUmaj/cgSpJ0eIJyxbDrz5SpoauAG4Bvfa03jLgEmAamMvOTI9JLSZIOgQWiJEmHZxtwdUScDFCnmJ4A/Kfu39Bp+1/g+PnerN53eB+lOHzvyHdXkqTxvAdRkqTDFBEbgDsoC9DsALYCf6IUiS8CP87MiYg4m7Iy6WeMWaQmIp4FVgF76qa3M3Nq4VNIkmSBKEmSJEmqnGIqSZIkSQJcxVSSpCUREdPAVb3Nj2bmb5eiP5IkgVNMJUmSJEmVU0wlSZIkSYAFoiRJkiSpskCUJEmSJAEWiJIkSZKk6nNArx3QDYmyGAAAAABJRU5ErkJggg==\n",
      "text/plain": [
       "<Figure size 1080x720 with 1 Axes>"
      ]
     },
     "metadata": {
      "needs_background": "light"
     },
     "output_type": "display_data"
    }
   ],
   "source": [
    "plt.figure(figsize=(15,10))\n",
    "sns.barplot('cat_2','Purchase',hue='Marital_Status',data=bf_new)"
   ]
  },
  {
   "cell_type": "markdown",
   "metadata": {},
   "source": [
    "### cat 3 Vs Purchase"
   ]
  },
  {
   "cell_type": "code",
   "execution_count": 131,
   "metadata": {},
   "outputs": [
    {
     "data": {
      "text/plain": [
       "<matplotlib.axes._subplots.AxesSubplot at 0x1b210d722b0>"
      ]
     },
     "execution_count": 131,
     "metadata": {},
     "output_type": "execute_result"
    },
    {
     "data": {
      "image/png": "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\n",
      "text/plain": [
       "<Figure size 1080x720 with 1 Axes>"
      ]
     },
     "metadata": {
      "needs_background": "light"
     },
     "output_type": "display_data"
    }
   ],
   "source": [
    "plt.figure(figsize=(15,10))\n",
    "sns.barplot('cat_3','Purchase',hue='Marital_Status',data=bf_new)"
   ]
  },
  {
   "cell_type": "markdown",
   "metadata": {},
   "source": [
    "##### Total Purchase of Category 3 is more than other 2. There is not much difference if the person is married or not"
   ]
  },
  {
   "cell_type": "markdown",
   "metadata": {},
   "source": [
    "#### Dividing the dataset into X and y and splitting it into train and test set"
   ]
  },
  {
   "cell_type": "code",
   "execution_count": 132,
   "metadata": {},
   "outputs": [],
   "source": [
    "X=bf_new.drop('Purchase',axis=1)\n",
    "y=bf_new['Purchase']"
   ]
  },
  {
   "cell_type": "code",
   "execution_count": 133,
   "metadata": {},
   "outputs": [
    {
     "name": "stdout",
     "output_type": "stream",
     "text": [
      "(783667, 10)\n"
     ]
    }
   ],
   "source": [
    "print(X.shape)"
   ]
  },
  {
   "cell_type": "code",
   "execution_count": 134,
   "metadata": {},
   "outputs": [
    {
     "name": "stdout",
     "output_type": "stream",
     "text": [
      "(783667,)\n"
     ]
    }
   ],
   "source": [
    "print(y.shape)"
   ]
  },
  {
   "cell_type": "code",
   "execution_count": 135,
   "metadata": {},
   "outputs": [],
   "source": [
    "X_train,X_test,y_train,y_test=train_test_split(X,y,test_size=0.2,random_state=101)"
   ]
  },
  {
   "cell_type": "code",
   "execution_count": 136,
   "metadata": {},
   "outputs": [
    {
     "name": "stdout",
     "output_type": "stream",
     "text": [
      "(626933, 10)\n",
      "(156734, 10)\n",
      "(626933,)\n",
      "(156734,)\n"
     ]
    }
   ],
   "source": [
    "print(X_train.shape)\n",
    "print(X_test.shape)\n",
    "print(y_train.shape)\n",
    "print(y_test.shape)"
   ]
  },
  {
   "cell_type": "markdown",
   "metadata": {},
   "source": [
    "#### The Data does not have a standard scale. We need to perform feature scaling to bring it to uniform scale"
   ]
  },
  {
   "cell_type": "code",
   "execution_count": 137,
   "metadata": {},
   "outputs": [
    {
     "data": {
      "text/plain": [
       "array([[-1.74595518, -1.10597514, -0.62447253, ...,  0.36880305,\n",
       "         1.17265301, -0.672187  ],\n",
       "       [ 0.57275239, -1.10597514, -0.62447253, ...,  0.36880305,\n",
       "        -0.85276718,  1.48768125],\n",
       "       [-1.74595518, -0.36662406, -1.23784161, ..., -1.09073663,\n",
       "        -0.85276718, -0.672187  ],\n",
       "       ...,\n",
       "       [-1.74595518, -0.36662406, -0.317788  , ..., -0.36096679,\n",
       "         1.17265301, -0.672187  ],\n",
       "       [ 0.57275239,  0.37272701, -1.08449934, ...,  0.36880305,\n",
       "        -0.85276718, -0.672187  ],\n",
       "       [ 0.57275239, -0.36662406, -0.317788  , ...,  0.36880305,\n",
       "        -0.85276718, -0.672187  ]])"
      ]
     },
     "execution_count": 137,
     "metadata": {},
     "output_type": "execute_result"
    }
   ],
   "source": [
    "sc=StandardScaler()\n",
    "sc.fit_transform(X_train)\n",
    "sc.transform(X_test)"
   ]
  },
  {
   "cell_type": "markdown",
   "metadata": {},
   "source": [
    "##### We can now use the data into machine learning model"
   ]
  },
  }
